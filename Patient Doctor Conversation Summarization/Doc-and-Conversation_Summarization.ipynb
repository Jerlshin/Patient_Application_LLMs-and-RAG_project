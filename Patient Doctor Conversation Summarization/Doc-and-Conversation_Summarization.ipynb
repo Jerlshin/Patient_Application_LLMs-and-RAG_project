{
 "cells": [
  {
   "cell_type": "code",
   "execution_count": 1,
   "metadata": {
    "ExecuteTime": {
     "end_time": "2024-04-16T08:51:52.088473Z",
     "start_time": "2024-04-16T08:51:52.081190Z"
    }
   },
   "outputs": [
    {
     "name": "stderr",
     "output_type": "stream",
     "text": [
      "2024-04-25 11:34:06.465700: W tensorflow/compiler/tf2tensorrt/utils/py_utils.cc:38] TF-TRT Warning: Could not find TensorRT\n"
     ]
    }
   ],
   "source": [
    "import transformers\n",
    "from transformers import pipeline\n",
    "from datasets import load_dataset\n",
    "from transformers import AutoTokenizer, AutoModelForSeq2SeqLM\n",
    "\n",
    "from transformers import BartForConditionalGeneration\n",
    "from transformers import BartTokenizer\n",
    "\n",
    "from gradio import Interface\n",
    "import pickle"
   ]
  },
  {
   "cell_type": "markdown",
   "metadata": {},
   "source": [
    "#### Context Summarization"
   ]
  },
  {
   "cell_type": "code",
   "execution_count": 2,
   "metadata": {
    "ExecuteTime": {
     "end_time": "2024-04-16T08:51:57.293966Z",
     "start_time": "2024-04-16T08:51:53.588175Z"
    }
   },
   "outputs": [],
   "source": [
    "tokenizer = AutoTokenizer.from_pretrained(\"facebook/bart-large-cnn\")   # BART model \n",
    "model = AutoModelForSeq2SeqLM.from_pretrained(\"facebook/bart-large-cnn\")"
   ]
  },
  {
   "cell_type": "markdown",
   "metadata": {},
   "source": [
    "406M params"
   ]
  },
  {
   "cell_type": "code",
   "execution_count": 3,
   "metadata": {
    "ExecuteTime": {
     "end_time": "2024-04-16T08:51:59.820284Z",
     "start_time": "2024-04-16T08:51:59.806547Z"
    }
   },
   "outputs": [],
   "source": [
    "summarizer = transformers.pipeline(\"summarization\",\n",
    "                      tokenizer=tokenizer,\n",
    "                      model=model)"
   ]
  },
  {
   "cell_type": "code",
   "execution_count": 4,
   "metadata": {},
   "outputs": [
    {
     "name": "stderr",
     "output_type": "stream",
     "text": [
      "Some non-default generation parameters are set in the model config. These should go into a GenerationConfig file (https://huggingface.co/docs/transformers/generation_strategies#save-a-custom-decoding-strategy-with-your-model) instead. This warning will be raised to an exception in v4.41.\n",
      "Non-default generation parameters: {'max_length': 142, 'min_length': 56, 'early_stopping': True, 'num_beams': 4, 'length_penalty': 2.0, 'no_repeat_ngram_size': 3, 'forced_bos_token_id': 0, 'forced_eos_token_id': 2}\n"
     ]
    }
   ],
   "source": [
    "tokenizer.save_pretrained(\"my_tokenizer\")\n",
    "model.save_pretrained(\"my_model\")"
   ]
  },
  {
   "cell_type": "code",
   "execution_count": 5,
   "metadata": {
    "ExecuteTime": {
     "end_time": "2024-04-16T08:13:30.213054Z",
     "start_time": "2024-04-16T08:13:30.204470Z"
    }
   },
   "outputs": [],
   "source": [
    "ARTICLE = \"\"\"\n",
    "Name: Aisha Khan\n",
    "Date: 16th April 2024\n",
    "Gender: Female\n",
    "Age: 62\n",
    "Weight: 68 kg\n",
    "CHIEF COMPLAINT: Left knee pain\n",
    "HISTORY OF PRESENT ILLNESS: This is a 62-year-old South\n",
    "Asian female with a two-month history of left knee pain, particularly\n",
    "worse with stairs and walking long distances. Denies any recent\n",
    "injury, redness, or swelling.\n",
    "PAST MEDICAL HISTORY: Osteoporosis diagnosed 10 years ago.\n",
    "Type 2 Diabetes controlled with diet and metformin.\n",
    "PAST SURGICAL HISTORY: Cholecystectomy at age 50.\n",
    "REVIEW OF SYSTEMS: No other significant findings.\n",
    "CURRENT MEDICATIONS: Metformin 500mg twice daily for\n",
    "diabetes. Calcium and Vitamin D supplements for osteoporosis.\n",
    "ALLERGIES: Penicillin allergy (rash)\n",
    "PHYSICAL EXAMINATION: Weight 68 kg, height 165 cm.\n",
    "VITAL SIGNS: Blood pressure 120/78 mmHg, heart rate 72 bpm,\n",
    "temperature 36.8Â°C (98.2Â°F), respiratory rate 14 breaths per\n",
    "minute.\n",
    "LOWER EXTREMITIES: Left knee joint with mild tenderness on\n",
    "palpation, no swelling or redness. Decreased range of motion\n",
    "compared to right knee.\n",
    "IMPRESSION:\n",
    "1. Left knee osteoarthritis\n",
    "Doctor's Advice: Recommend physical therapy for strengthening\n",
    "and pain management. Consider X-ray of the left knee to assess\n",
    "further. Discuss potential pain medication options with the patient.\n",
    "Schedule a follow-up appointment in 4 weeks to monitor progress.\n",
    "\"\"\""
   ]
  },
  {
   "cell_type": "code",
   "execution_count": 6,
   "metadata": {},
   "outputs": [],
   "source": [
    "def predict(text):\n",
    "    result = summarizer(text, max_length=200, min_length=100, do_sample=False)[0]['summary_text']\n",
    "    return result"
   ]
  },
  {
   "cell_type": "code",
   "execution_count": 7,
   "metadata": {},
   "outputs": [
    {
     "name": "stdout",
     "output_type": "stream",
     "text": [
      "Running on local URL:  http://127.0.0.1:7860\n",
      "\n",
      "To create a public link, set `share=True` in `launch()`.\n"
     ]
    },
    {
     "data": {
      "text/html": [
       "<div><iframe src=\"http://127.0.0.1:7860/\" width=\"100%\" height=\"500\" allow=\"autoplay; camera; microphone; clipboard-read; clipboard-write;\" frameborder=\"0\" allowfullscreen></iframe></div>"
      ],
      "text/plain": [
       "<IPython.core.display.HTML object>"
      ]
     },
     "metadata": {},
     "output_type": "display_data"
    },
    {
     "data": {
      "text/plain": []
     },
     "execution_count": 7,
     "metadata": {},
     "output_type": "execute_result"
    }
   ],
   "source": [
    "interface = Interface(\n",
    "  fn=predict,\n",
    "  inputs=\"textbox\",\n",
    "  outputs=\"textbox\",\n",
    "  title=\"Summarizing the Input Document from the user \",\n",
    "  description=\"If user prefers to have a summarized document, this model would do that\"\n",
    ")\n",
    "\n",
    "interface.launch()\n"
   ]
  },
  {
   "cell_type": "code",
   "execution_count": 7,
   "metadata": {
    "ExecuteTime": {
     "start_time": "2024-04-16T08:13:32.160968Z"
    },
    "is_executing": true
   },
   "outputs": [],
   "source": [
    "result = summarizer(ARTICLE, max_length=130, min_length=50, do_sample=False)"
   ]
  },
  {
   "cell_type": "code",
   "execution_count": 9,
   "metadata": {
    "ExecuteTime": {
     "end_time": "2024-04-16T07:22:49.128596Z",
     "start_time": "2024-04-16T07:22:49.124257Z"
    }
   },
   "outputs": [
    {
     "data": {
      "text/plain": [
       "\"John Doe's medical history goes beyond the initial diagnoses of hypertension and appendectomy. It's important to explore any past illnesses, surgeries, injuries, or hospitalizations. A more detailed description of John's abdominal pain can help narrow down potential causes. Understanding John's diet and exercise habits can reveal areas for improvement.\""
      ]
     },
     "execution_count": 9,
     "metadata": {},
     "output_type": "execute_result"
    }
   ],
   "source": [
    "result[0]['summary_text']"
   ]
  },
  {
   "cell_type": "markdown",
   "metadata": {},
   "source": [
    "#### Patient-Doctor Summarization"
   ]
  },
  {
   "cell_type": "code",
   "execution_count": 2,
   "metadata": {
    "ExecuteTime": {
     "end_time": "2024-04-16T07:50:01.362942Z",
     "start_time": "2024-04-16T07:49:56.594010Z"
    }
   },
   "outputs": [],
   "source": [
    "pat_doc_tokenizer = AutoTokenizer.from_pretrained(\"Charankumarpc/test-dialogue-summarization\")  \n",
    "pat_doc_model = AutoModelForSeq2SeqLM.from_pretrained(\"Charankumarpc/test-dialogue-summarization\")"
   ]
  },
  {
   "cell_type": "code",
   "execution_count": 3,
   "metadata": {
    "ExecuteTime": {
     "end_time": "2024-04-16T07:50:06.143541Z",
     "start_time": "2024-04-16T07:50:06.134613Z"
    },
    "collapsed": false
   },
   "outputs": [
    {
     "data": {
      "text/plain": [
       "BartForConditionalGeneration(\n",
       "  (model): BartModel(\n",
       "    (shared): Embedding(50264, 1024, padding_idx=1)\n",
       "    (encoder): BartEncoder(\n",
       "      (embed_tokens): Embedding(50264, 1024, padding_idx=1)\n",
       "      (embed_positions): BartLearnedPositionalEmbedding(1026, 1024)\n",
       "      (layers): ModuleList(\n",
       "        (0-11): 12 x BartEncoderLayer(\n",
       "          (self_attn): BartSdpaAttention(\n",
       "            (k_proj): Linear(in_features=1024, out_features=1024, bias=True)\n",
       "            (v_proj): Linear(in_features=1024, out_features=1024, bias=True)\n",
       "            (q_proj): Linear(in_features=1024, out_features=1024, bias=True)\n",
       "            (out_proj): Linear(in_features=1024, out_features=1024, bias=True)\n",
       "          )\n",
       "          (self_attn_layer_norm): LayerNorm((1024,), eps=1e-05, elementwise_affine=True)\n",
       "          (activation_fn): GELUActivation()\n",
       "          (fc1): Linear(in_features=1024, out_features=4096, bias=True)\n",
       "          (fc2): Linear(in_features=4096, out_features=1024, bias=True)\n",
       "          (final_layer_norm): LayerNorm((1024,), eps=1e-05, elementwise_affine=True)\n",
       "        )\n",
       "      )\n",
       "      (layernorm_embedding): LayerNorm((1024,), eps=1e-05, elementwise_affine=True)\n",
       "    )\n",
       "    (decoder): BartDecoder(\n",
       "      (embed_tokens): Embedding(50264, 1024, padding_idx=1)\n",
       "      (embed_positions): BartLearnedPositionalEmbedding(1026, 1024)\n",
       "      (layers): ModuleList(\n",
       "        (0-11): 12 x BartDecoderLayer(\n",
       "          (self_attn): BartSdpaAttention(\n",
       "            (k_proj): Linear(in_features=1024, out_features=1024, bias=True)\n",
       "            (v_proj): Linear(in_features=1024, out_features=1024, bias=True)\n",
       "            (q_proj): Linear(in_features=1024, out_features=1024, bias=True)\n",
       "            (out_proj): Linear(in_features=1024, out_features=1024, bias=True)\n",
       "          )\n",
       "          (activation_fn): GELUActivation()\n",
       "          (self_attn_layer_norm): LayerNorm((1024,), eps=1e-05, elementwise_affine=True)\n",
       "          (encoder_attn): BartSdpaAttention(\n",
       "            (k_proj): Linear(in_features=1024, out_features=1024, bias=True)\n",
       "            (v_proj): Linear(in_features=1024, out_features=1024, bias=True)\n",
       "            (q_proj): Linear(in_features=1024, out_features=1024, bias=True)\n",
       "            (out_proj): Linear(in_features=1024, out_features=1024, bias=True)\n",
       "          )\n",
       "          (encoder_attn_layer_norm): LayerNorm((1024,), eps=1e-05, elementwise_affine=True)\n",
       "          (fc1): Linear(in_features=1024, out_features=4096, bias=True)\n",
       "          (fc2): Linear(in_features=4096, out_features=1024, bias=True)\n",
       "          (final_layer_norm): LayerNorm((1024,), eps=1e-05, elementwise_affine=True)\n",
       "        )\n",
       "      )\n",
       "      (layernorm_embedding): LayerNorm((1024,), eps=1e-05, elementwise_affine=True)\n",
       "    )\n",
       "  )\n",
       "  (lm_head): Linear(in_features=1024, out_features=50264, bias=False)\n",
       ")"
      ]
     },
     "execution_count": 3,
     "metadata": {},
     "output_type": "execute_result"
    }
   ],
   "source": [
    "pat_doc_model"
   ]
  },
  {
   "cell_type": "code",
   "execution_count": 5,
   "metadata": {},
   "outputs": [
    {
     "data": {
      "text/plain": [
       "('Conversation_TOK/tokenizer_config.json',\n",
       " 'Conversation_TOK/special_tokens_map.json',\n",
       " 'Conversation_TOK/vocab.json',\n",
       " 'Conversation_TOK/merges.txt',\n",
       " 'Conversation_TOK/added_tokens.json',\n",
       " 'Conversation_TOK/tokenizer.json')"
      ]
     },
     "execution_count": 5,
     "metadata": {},
     "output_type": "execute_result"
    }
   ],
   "source": [
    "pat_doc_tokenizer.save_pretrained(\"Conversation_TOK\")"
   ]
  },
  {
   "cell_type": "code",
   "execution_count": 6,
   "metadata": {},
   "outputs": [
    {
     "name": "stderr",
     "output_type": "stream",
     "text": [
      "Some non-default generation parameters are set in the model config. These should go into a GenerationConfig file (https://huggingface.co/docs/transformers/generation_strategies#save-a-custom-decoding-strategy-with-your-model) instead. This warning will be raised to an exception in v4.41.\n",
      "Non-default generation parameters: {'max_length': 142, 'min_length': 56, 'early_stopping': True, 'num_beams': 4, 'length_penalty': 2.0, 'no_repeat_ngram_size': 3, 'forced_bos_token_id': 0, 'forced_eos_token_id': 2}\n"
     ]
    }
   ],
   "source": [
    "pat_doc_model.save_pretrained(\"Conversation_MODEL\")"
   ]
  },
  {
   "cell_type": "code",
   "execution_count": 4,
   "metadata": {
    "ExecuteTime": {
     "end_time": "2024-04-16T07:55:17.324736Z",
     "start_time": "2024-04-16T07:55:17.318614Z"
    },
    "collapsed": false
   },
   "outputs": [],
   "source": [
    "Pat_Doc_Conversation = \"\"\"\n",
    "\n",
    "Doctor: What brings you back into the clinic today, miss? \n",
    "Patient: I came in for a refill of my blood pressure medicine. \n",
    "Doctor: It looks like Doctor Kumar followed up with you last time regarding your hypertension, osteoarthritis, osteoporosis, hypothyroidism, allergic rhinitis and kidney stones.  Have you noticed any changes or do you have any concerns regarding these issues?  \n",
    "Patient: No. \n",
    "Doctor: Have you had any fever or chills, cough, congestion, nausea, vomiting, chest pain, chest pressure?\n",
    "Patient: No.  \n",
    "Doctor: Great. Also, for our records, how old are you and what race do you identify yourself as?\n",
    "Patient: I am seventy six years old and identify as a white female.\n",
    "\n",
    "\n",
    "\"\"\""
   ]
  },
  {
   "cell_type": "code",
   "execution_count": 11,
   "metadata": {
    "ExecuteTime": {
     "end_time": "2024-04-16T07:56:07.972582Z",
     "start_time": "2024-04-16T07:56:07.967482Z"
    },
    "collapsed": false
   },
   "outputs": [],
   "source": [
    "def preprocess_conversation(conversation):\n",
    "    inputs = pat_doc_tokenizer(conversation, return_tensors=\"pt\") \n",
    "    return inputs "
   ]
  },
  {
   "cell_type": "code",
   "execution_count": 12,
   "metadata": {
    "ExecuteTime": {
     "end_time": "2024-04-16T08:03:45.153233Z",
     "start_time": "2024-04-16T08:03:45.147129Z"
    },
    "collapsed": false
   },
   "outputs": [],
   "source": [
    "def summarize(conversation):\n",
    "    inputs = preprocess_conversation(conversation)\n",
    "    output = pat_doc_model.generate(**inputs)\n",
    "    summary = pat_doc_tokenizer.decode(output[0], skip_special_tokens=True)\n",
    "    \n",
    "    return summary "
   ]
  },
  {
   "cell_type": "code",
   "execution_count": 13,
   "metadata": {
    "ExecuteTime": {
     "end_time": "2024-04-16T08:03:45.881980Z",
     "start_time": "2024-04-16T08:03:45.874936Z"
    },
    "collapsed": false
   },
   "outputs": [],
   "source": [
    "def generate_summary(pat_doc_model):\n",
    "    output = pat_doc_model.generate(**inputs)\n",
    "    summary = pat_doc_tokenizer.decode(output[0], skip_special_tokens=True)\n",
    "    \n",
    "    return summary \n"
   ]
  },
  {
   "cell_type": "code",
   "execution_count": 14,
   "metadata": {
    "ExecuteTime": {
     "end_time": "2024-04-16T07:57:39.417705Z",
     "start_time": "2024-04-16T07:57:39.407640Z"
    },
    "collapsed": false
   },
   "outputs": [],
   "source": [
    "inputs = preprocess_conversation(Pat_Doc_Conversation)"
   ]
  },
  {
   "cell_type": "code",
   "execution_count": 15,
   "metadata": {
    "ExecuteTime": {
     "end_time": "2024-04-16T07:57:42.236277Z",
     "start_time": "2024-04-16T07:57:42.226930Z"
    },
    "collapsed": false
   },
   "outputs": [
    {
     "data": {
      "text/plain": [
       "{'input_ids': tensor([[    0, 50118, 50118, 41152,    35,   653,  3291,    47,   124,    88,\n",
       "             5,  8474,   452,     6,  2649,   116,  1437, 50118, 18276,  4843,\n",
       "            35,    38,   376,    11,    13,    10, 40453,     9,   127,  1925,\n",
       "          1164,  6150,     4,  1437, 50118, 41152,    35,    85,  1326,   101,\n",
       "         12521,  6706,  1432,    62,    19,    47,    94,    86,  2624,   110,\n",
       "         30960,     6, 30311,   139, 16880, 37830,     6, 30311,  1517,   368,\n",
       "         13310,     6, 15671, 37994, 36866,  1809,     6, 28349, 16448,   179,\n",
       "         10100,     8, 12855, 15109,     4,  1437,  6319,    47,  5324,   143,\n",
       "          1022,    50,   109,    47,    33,   143,  1379,  2624,   209,   743,\n",
       "           116,  1437,  1437, 50118, 18276,  4843,    35,   440,     4,  1437,\n",
       "         50118, 41152,    35,  6319,    47,    56,   143, 11696,    50,  1855,\n",
       "          5622,     6, 21768,     6, 15744,     6, 27214,     6, 23600,     6,\n",
       "          7050,  2400,     6,  7050,  1164,   116, 50118, 18276,  4843,    35,\n",
       "           440,     4,  1437,  1437, 50118, 41152,    35,  2860,     4,  1578,\n",
       "             6,    13,    84,  2189,     6,   141,   793,    32,    47,     8,\n",
       "            99,  1015,   109,    47,  3058,  2512,    25,   116, 50118, 18276,\n",
       "          4843,    35,    38,   524, 39676,   411,   107,   793,     8,  3058,\n",
       "            25,    10,  1104,  2182,     4, 50140, 50118,     2]]), 'attention_mask': tensor([[1, 1, 1, 1, 1, 1, 1, 1, 1, 1, 1, 1, 1, 1, 1, 1, 1, 1, 1, 1, 1, 1, 1, 1,\n",
       "         1, 1, 1, 1, 1, 1, 1, 1, 1, 1, 1, 1, 1, 1, 1, 1, 1, 1, 1, 1, 1, 1, 1, 1,\n",
       "         1, 1, 1, 1, 1, 1, 1, 1, 1, 1, 1, 1, 1, 1, 1, 1, 1, 1, 1, 1, 1, 1, 1, 1,\n",
       "         1, 1, 1, 1, 1, 1, 1, 1, 1, 1, 1, 1, 1, 1, 1, 1, 1, 1, 1, 1, 1, 1, 1, 1,\n",
       "         1, 1, 1, 1, 1, 1, 1, 1, 1, 1, 1, 1, 1, 1, 1, 1, 1, 1, 1, 1, 1, 1, 1, 1,\n",
       "         1, 1, 1, 1, 1, 1, 1, 1, 1, 1, 1, 1, 1, 1, 1, 1, 1, 1, 1, 1, 1, 1, 1, 1,\n",
       "         1, 1, 1, 1, 1, 1, 1, 1, 1, 1, 1, 1, 1, 1, 1, 1, 1, 1, 1, 1, 1, 1, 1, 1,\n",
       "         1, 1, 1, 1, 1, 1, 1, 1, 1, 1]])}"
      ]
     },
     "execution_count": 15,
     "metadata": {},
     "output_type": "execute_result"
    }
   ],
   "source": [
    "inputs"
   ]
  },
  {
   "cell_type": "code",
   "execution_count": 16,
   "metadata": {
    "ExecuteTime": {
     "end_time": "2024-04-16T07:58:09.239042Z",
     "start_time": "2024-04-16T07:57:59.003229Z"
    },
    "collapsed": false
   },
   "outputs": [
    {
     "ename": "TypeError",
     "evalue": "generate_summary() takes 1 positional argument but 2 were given",
     "output_type": "error",
     "traceback": [
      "\u001b[0;31m---------------------------------------------------------------------------\u001b[0m",
      "\u001b[0;31mTypeError\u001b[0m                                 Traceback (most recent call last)",
      "Cell \u001b[0;32mIn[16], line 1\u001b[0m\n\u001b[0;32m----> 1\u001b[0m summary \u001b[38;5;241m=\u001b[39m \u001b[43mgenerate_summary\u001b[49m\u001b[43m(\u001b[49m\u001b[43mpat_doc_model\u001b[49m\u001b[43m,\u001b[49m\u001b[43m \u001b[49m\u001b[43minputs\u001b[49m\u001b[43m)\u001b[49m\n",
      "\u001b[0;31mTypeError\u001b[0m: generate_summary() takes 1 positional argument but 2 were given"
     ]
    }
   ],
   "source": [
    "summary = generate_summary(pat_doc_model, inputs)"
   ]
  },
  {
   "cell_type": "code",
   "execution_count": 17,
   "metadata": {
    "ExecuteTime": {
     "end_time": "2024-04-16T07:58:14.829719Z",
     "start_time": "2024-04-16T07:58:14.824776Z"
    },
    "collapsed": false
   },
   "outputs": [
    {
     "ename": "NameError",
     "evalue": "name 'summary' is not defined",
     "output_type": "error",
     "traceback": [
      "\u001b[0;31m---------------------------------------------------------------------------\u001b[0m",
      "\u001b[0;31mNameError\u001b[0m                                 Traceback (most recent call last)",
      "Cell \u001b[0;32mIn[17], line 1\u001b[0m\n\u001b[0;32m----> 1\u001b[0m \u001b[43msummary\u001b[49m\n",
      "\u001b[0;31mNameError\u001b[0m: name 'summary' is not defined"
     ]
    }
   ],
   "source": [
    "summary"
   ]
  },
  {
   "cell_type": "code",
   "execution_count": 18,
   "metadata": {
    "ExecuteTime": {
     "end_time": "2024-04-16T08:09:44.154870Z",
     "start_time": "2024-04-16T08:09:41.806084Z"
    },
    "collapsed": false
   },
   "outputs": [
    {
     "name": "stdout",
     "output_type": "stream",
     "text": [
      "Running on local URL:  http://127.0.0.1:7861\n",
      "\n",
      "To create a public link, set `share=True` in `launch()`.\n"
     ]
    },
    {
     "data": {
      "text/html": [
       "<div><iframe src=\"http://127.0.0.1:7861/\" width=\"100%\" height=\"500\" allow=\"autoplay; camera; microphone; clipboard-read; clipboard-write;\" frameborder=\"0\" allowfullscreen></iframe></div>"
      ],
      "text/plain": [
       "<IPython.core.display.HTML object>"
      ]
     },
     "metadata": {},
     "output_type": "display_data"
    },
    {
     "data": {
      "text/plain": []
     },
     "execution_count": 18,
     "metadata": {},
     "output_type": "execute_result"
    }
   ],
   "source": [
    "interface = Interface(\n",
    "  fn=summarize,\n",
    "  inputs=\"textbox\",\n",
    "  outputs=\"textbox\",\n",
    "  title=\"Summarizing the Conversation Between the Doctor and the Patient\",\n",
    "  description=\"After patients select a doctor based on their interest, they can engage in conversation with the chosen doctor. If users prefer to have a summary of the entire conversation afterward, this model will handle the task.\",   \n",
    ")\n",
    "\n",
    "interface.launch()\n"
   ]
  },
  {
   "cell_type": "code",
   "execution_count": null,
   "metadata": {
    "collapsed": false
   },
   "outputs": [],
   "source": []
  }
 ],
 "metadata": {
  "kernelspec": {
   "display_name": "env_ai",
   "language": "python",
   "name": "python3"
  },
  "language_info": {
   "codemirror_mode": {
    "name": "ipython",
    "version": 3
   },
   "file_extension": ".py",
   "mimetype": "text/x-python",
   "name": "python",
   "nbconvert_exporter": "python",
   "pygments_lexer": "ipython3",
   "version": "3.10.12"
  }
 },
 "nbformat": 4,
 "nbformat_minor": 2
}
