{
 "cells": [
  {
   "cell_type": "code",
   "execution_count": 1,
   "metadata": {},
   "outputs": [
    {
     "name": "stdout",
     "output_type": "stream",
     "text": [
      "env: TOKENIZERS_PARALLELISM=false\n"
     ]
    }
   ],
   "source": [
    "%env TOKENIZERS_PARALLELISM=false"
   ]
  },
  {
   "cell_type": "code",
   "execution_count": 2,
   "metadata": {},
   "outputs": [
    {
     "name": "stderr",
     "output_type": "stream",
     "text": [
      "/home/jerlshin/env_ai/lib/python3.10/site-packages/torchvision/io/image.py:13: UserWarning: Failed to load image Python extension: '/home/jerlshin/env_ai/lib/python3.10/site-packages/torchvision/image.so: undefined symbol: _ZN3c1017RegisterOperatorsD1Ev'If you don't plan on using image functionality from `torchvision.io`, you can ignore this warning. Otherwise, there might be something wrong with your environment. Did you have `libjpeg` or `libpng` installed before building `torchvision` from source?\n",
      "  warn(\n"
     ]
    }
   ],
   "source": [
    "import json \n",
    "import pandas as pd \n",
    "import numpy as np \n",
    "import torch \n",
    "from pathlib import Path \n",
    "from torch.utils.data import Dataset, DataLoader\n",
    "import pytorch_lightning as pl \n",
    "from pytorch_lightning.callbacks import ModelCheckpoint\n",
    "from pytorch_lightning.loggers import TensorBoardLogger\n",
    "from pytorch_lightning.utilities.types import TRAIN_DATALOADERS\n",
    "\n",
    "from sklearn.model_selection import train_test_split\n",
    "from termcolor import colored\n",
    "import textwrap \n",
    "\n",
    "from transformers import AdamW, T5ForConditionalGeneration, T5TokenizerFast\n",
    "from tqdm.auto import tqdm\n",
    "\n",
    "import seaborn as sns \n",
    "from pylab import rcParams \n",
    "import matplotlib.pyplot as plt \n",
    "from matplotlib import rc \n"
   ]
  },
  {
   "cell_type": "code",
   "execution_count": 3,
   "metadata": {},
   "outputs": [],
   "source": [
    "datafram = pd.read_csv(\"/Users/devanshvikram/Documents/GitHub/hackathon/Processed Query Set.csv\")"
   ]
  },
  {
   "cell_type": "code",
   "execution_count": 4,
   "metadata": {},
   "outputs": [
    {
     "data": {
      "text/html": [
       "<div>\n",
       "<style scoped>\n",
       "    .dataframe tbody tr th:only-of-type {\n",
       "        vertical-align: middle;\n",
       "    }\n",
       "\n",
       "    .dataframe tbody tr th {\n",
       "        vertical-align: top;\n",
       "    }\n",
       "\n",
       "    .dataframe thead th {\n",
       "        text-align: right;\n",
       "    }\n",
       "</style>\n",
       "<table border=\"1\" class=\"dataframe\">\n",
       "  <thead>\n",
       "    <tr style=\"text-align: right;\">\n",
       "      <th></th>\n",
       "      <th>Unnamed: 0</th>\n",
       "      <th>Description</th>\n",
       "      <th>Doctor</th>\n",
       "      <th>Patient</th>\n",
       "      <th>Status</th>\n",
       "    </tr>\n",
       "  </thead>\n",
       "  <tbody>\n",
       "    <tr>\n",
       "      <th>0</th>\n",
       "      <td>0</td>\n",
       "      <td>what does abutment of the nerve root mean</td>\n",
       "      <td>hi I have gone through your query with diligen...</td>\n",
       "      <td>hi doctor I am just wondering what is abutting...</td>\n",
       "      <td>medium severity</td>\n",
       "    </tr>\n",
       "    <tr>\n",
       "      <th>1</th>\n",
       "      <td>1</td>\n",
       "      <td>every time I eat spicy food I poop blood why</td>\n",
       "      <td>hello I have gone through your information and...</td>\n",
       "      <td>hi doctor I am a 26 year old male I am feet an...</td>\n",
       "      <td>high severity</td>\n",
       "    </tr>\n",
       "    <tr>\n",
       "      <th>2</th>\n",
       "      <td>2</td>\n",
       "      <td>will nano leo give permanent solution for erec...</td>\n",
       "      <td>hi for further doubts consult a sexologist online</td>\n",
       "      <td>hello doctor I am 48 years old I am experienci...</td>\n",
       "      <td>low severity</td>\n",
       "    </tr>\n",
       "    <tr>\n",
       "      <th>3</th>\n",
       "      <td>3</td>\n",
       "      <td>will kalarchikai cure multiple ovarian cysts i...</td>\n",
       "      <td>hello I just read your query see kalarachi kai...</td>\n",
       "      <td>hello doctor I have multiple small cysts in bo...</td>\n",
       "      <td>medium severity</td>\n",
       "    </tr>\n",
       "    <tr>\n",
       "      <th>4</th>\n",
       "      <td>4</td>\n",
       "      <td>I masturbate only by rubbing the tip of the pe...</td>\n",
       "      <td>hi for further doubts consult a sexologist online</td>\n",
       "      <td>hi doctor during masturbation I just rub the t...</td>\n",
       "      <td>low severity</td>\n",
       "    </tr>\n",
       "    <tr>\n",
       "      <th>...</th>\n",
       "      <td>...</td>\n",
       "      <td>...</td>\n",
       "      <td>...</td>\n",
       "      <td>...</td>\n",
       "      <td>...</td>\n",
       "    </tr>\n",
       "    <tr>\n",
       "      <th>3320</th>\n",
       "      <td>3320</td>\n",
       "      <td>should I seek more serious help for my bpd dep...</td>\n",
       "      <td>hi I see that you are facing many issues at th...</td>\n",
       "      <td>hello doctor I am currently seeking help and I...</td>\n",
       "      <td>high severity</td>\n",
       "    </tr>\n",
       "    <tr>\n",
       "      <th>3321</th>\n",
       "      <td>3321</td>\n",
       "      <td>after a fall I have pain in my right lower bac...</td>\n",
       "      <td>hi I feel sorry to hear this muscle injury bon...</td>\n",
       "      <td>hi doctor I fell on a wooden set of stairs las...</td>\n",
       "      <td>medium severity</td>\n",
       "    </tr>\n",
       "    <tr>\n",
       "      <th>3322</th>\n",
       "      <td>3322</td>\n",
       "      <td>please suggest medication for red patches in t...</td>\n",
       "      <td>hi revert back with the details to a dermatolo...</td>\n",
       "      <td>hi doctor my mother is 57 years old she has re...</td>\n",
       "      <td>low severity</td>\n",
       "    </tr>\n",
       "    <tr>\n",
       "      <th>3323</th>\n",
       "      <td>3323</td>\n",
       "      <td>what is the reason for my daughter constipatio...</td>\n",
       "      <td>hi hirschsprung disease cmpa barium enema stud...</td>\n",
       "      <td>hi doctor my 18 month old daughter has had pro...</td>\n",
       "      <td>medium severity</td>\n",
       "    </tr>\n",
       "    <tr>\n",
       "      <th>3324</th>\n",
       "      <td>3324</td>\n",
       "      <td>there is a red rash on my inner thigh what is it</td>\n",
       "      <td>hi I have reviewed the attached photographs at...</td>\n",
       "      <td>hi doctor I have a reddish rash on my inner th...</td>\n",
       "      <td>low severity</td>\n",
       "    </tr>\n",
       "  </tbody>\n",
       "</table>\n",
       "<p>3325 rows × 5 columns</p>\n",
       "</div>"
      ],
      "text/plain": [
       "      Unnamed: 0                                        Description  \\\n",
       "0              0          what does abutment of the nerve root mean   \n",
       "1              1       every time I eat spicy food I poop blood why   \n",
       "2              2  will nano leo give permanent solution for erec...   \n",
       "3              3  will kalarchikai cure multiple ovarian cysts i...   \n",
       "4              4  I masturbate only by rubbing the tip of the pe...   \n",
       "...          ...                                                ...   \n",
       "3320        3320  should I seek more serious help for my bpd dep...   \n",
       "3321        3321  after a fall I have pain in my right lower bac...   \n",
       "3322        3322  please suggest medication for red patches in t...   \n",
       "3323        3323  what is the reason for my daughter constipatio...   \n",
       "3324        3324   there is a red rash on my inner thigh what is it   \n",
       "\n",
       "                                                 Doctor  \\\n",
       "0     hi I have gone through your query with diligen...   \n",
       "1     hello I have gone through your information and...   \n",
       "2     hi for further doubts consult a sexologist online   \n",
       "3     hello I just read your query see kalarachi kai...   \n",
       "4     hi for further doubts consult a sexologist online   \n",
       "...                                                 ...   \n",
       "3320  hi I see that you are facing many issues at th...   \n",
       "3321  hi I feel sorry to hear this muscle injury bon...   \n",
       "3322  hi revert back with the details to a dermatolo...   \n",
       "3323  hi hirschsprung disease cmpa barium enema stud...   \n",
       "3324  hi I have reviewed the attached photographs at...   \n",
       "\n",
       "                                                Patient           Status  \n",
       "0     hi doctor I am just wondering what is abutting...  medium severity  \n",
       "1     hi doctor I am a 26 year old male I am feet an...    high severity  \n",
       "2     hello doctor I am 48 years old I am experienci...     low severity  \n",
       "3     hello doctor I have multiple small cysts in bo...  medium severity  \n",
       "4     hi doctor during masturbation I just rub the t...     low severity  \n",
       "...                                                 ...              ...  \n",
       "3320  hello doctor I am currently seeking help and I...    high severity  \n",
       "3321  hi doctor I fell on a wooden set of stairs las...  medium severity  \n",
       "3322  hi doctor my mother is 57 years old she has re...     low severity  \n",
       "3323  hi doctor my 18 month old daughter has had pro...  medium severity  \n",
       "3324  hi doctor I have a reddish rash on my inner th...     low severity  \n",
       "\n",
       "[3325 rows x 5 columns]"
      ]
     },
     "execution_count": 4,
     "metadata": {},
     "output_type": "execute_result"
    }
   ],
   "source": [
    "datafram"
   ]
  },
  {
   "cell_type": "code",
   "execution_count": 5,
   "metadata": {},
   "outputs": [],
   "source": [
    "df_org = datafram[[\"Patient\", \"Description\"]]"
   ]
  },
  {
   "cell_type": "code",
   "execution_count": 6,
   "metadata": {},
   "outputs": [
    {
     "data": {
      "text/html": [
       "<div>\n",
       "<style scoped>\n",
       "    .dataframe tbody tr th:only-of-type {\n",
       "        vertical-align: middle;\n",
       "    }\n",
       "\n",
       "    .dataframe tbody tr th {\n",
       "        vertical-align: top;\n",
       "    }\n",
       "\n",
       "    .dataframe thead th {\n",
       "        text-align: right;\n",
       "    }\n",
       "</style>\n",
       "<table border=\"1\" class=\"dataframe\">\n",
       "  <thead>\n",
       "    <tr style=\"text-align: right;\">\n",
       "      <th></th>\n",
       "      <th>Patient</th>\n",
       "      <th>Description</th>\n",
       "    </tr>\n",
       "  </thead>\n",
       "  <tbody>\n",
       "    <tr>\n",
       "      <th>0</th>\n",
       "      <td>hi doctor I am just wondering what is abutting...</td>\n",
       "      <td>what does abutment of the nerve root mean</td>\n",
       "    </tr>\n",
       "    <tr>\n",
       "      <th>1</th>\n",
       "      <td>hi doctor I am a 26 year old male I am feet an...</td>\n",
       "      <td>every time I eat spicy food I poop blood why</td>\n",
       "    </tr>\n",
       "    <tr>\n",
       "      <th>2</th>\n",
       "      <td>hello doctor I am 48 years old I am experienci...</td>\n",
       "      <td>will nano leo give permanent solution for erec...</td>\n",
       "    </tr>\n",
       "    <tr>\n",
       "      <th>3</th>\n",
       "      <td>hello doctor I have multiple small cysts in bo...</td>\n",
       "      <td>will kalarchikai cure multiple ovarian cysts i...</td>\n",
       "    </tr>\n",
       "    <tr>\n",
       "      <th>4</th>\n",
       "      <td>hi doctor during masturbation I just rub the t...</td>\n",
       "      <td>I masturbate only by rubbing the tip of the pe...</td>\n",
       "    </tr>\n",
       "  </tbody>\n",
       "</table>\n",
       "</div>"
      ],
      "text/plain": [
       "                                             Patient  \\\n",
       "0  hi doctor I am just wondering what is abutting...   \n",
       "1  hi doctor I am a 26 year old male I am feet an...   \n",
       "2  hello doctor I am 48 years old I am experienci...   \n",
       "3  hello doctor I have multiple small cysts in bo...   \n",
       "4  hi doctor during masturbation I just rub the t...   \n",
       "\n",
       "                                         Description  \n",
       "0          what does abutment of the nerve root mean  \n",
       "1       every time I eat spicy food I poop blood why  \n",
       "2  will nano leo give permanent solution for erec...  \n",
       "3  will kalarchikai cure multiple ovarian cysts i...  \n",
       "4  I masturbate only by rubbing the tip of the pe...  "
      ]
     },
     "execution_count": 6,
     "metadata": {},
     "output_type": "execute_result"
    }
   ],
   "source": [
    "df_org.head()"
   ]
  },
  {
   "cell_type": "code",
   "execution_count": 22,
   "metadata": {},
   "outputs": [],
   "source": [
    "df_org.columns = [\"Patient\", \"Description\"]\n",
    "df_org = df_org.dropna()\n",
    "\n",
    "df_org"
   ]
  },
  {
   "cell_type": "code",
   "execution_count": 23,
   "metadata": {},
   "outputs": [
    {
     "data": {
      "text/plain": [
       "(10, 2)"
      ]
     },
     "execution_count": 23,
     "metadata": {},
     "output_type": "execute_result"
    }
   ],
   "source": [
    "df_org.shape"
   ]
  },
  {
   "cell_type": "code",
   "execution_count": 24,
   "metadata": {},
   "outputs": [
    {
     "data": {
      "text/plain": [
       "((9, 2), (1, 2))"
      ]
     },
     "execution_count": 24,
     "metadata": {},
     "output_type": "execute_result"
    }
   ],
   "source": [
    "train_df, test_df = train_test_split(df_org, test_size=0.1)\n",
    "\n",
    "train_df.shape, test_df.shape"
   ]
  },
  {
   "cell_type": "code",
   "execution_count": 25,
   "metadata": {},
   "outputs": [],
   "source": [
    "class SummarizeDataset(Dataset):\n",
    "    def __init__(\n",
    "            self, \n",
    "            data: pd.DataFrame,\n",
    "            tokenizer: T5TokenizerFast,\n",
    "            text_max_token_len: int = 512,\n",
    "            summary_max_token_len: int = 128\n",
    "    ):\n",
    "        super().__init__()\n",
    "        \n",
    "        self.tokenizer = tokenizer\n",
    "        self.data = data\n",
    "        self.text_max_token_len = text_max_token_len\n",
    "        self.summary_max_token_len = summary_max_token_len\n",
    "    \n",
    "    def __len__(self):\n",
    "        return len(self.data)\n",
    "    \n",
    "    def __getitem__(self, index: int):\n",
    "        data_row = self.data.iloc[index]\n",
    "\n",
    "        text = data_row[\"Patient\"] # text to summarize \n",
    "\n",
    "        text_encoding = self.tokenizer(\n",
    "            text=text,\n",
    "            max_length=self.text_max_token_len,\n",
    "            padding=\"max_length\",\n",
    "            truncation=True,\n",
    "            return_attention_mask=True,\n",
    "            add_special_tokens=True,\n",
    "            return_tensors=\"pt\"\n",
    "        )\n",
    "\n",
    "        summary_encoding = self.tokenizer(\n",
    "            text=data_row[\"Description\"],\n",
    "            max_length=self.summary_max_token_len,\n",
    "            padding=\"max_length\",\n",
    "            truncation=True,\n",
    "            return_attention_mask=True,\n",
    "            add_special_tokens=True,\n",
    "            return_tensors=\"pt\"\n",
    "        )\n",
    "\n",
    "        labels = summary_encoding[\"input_ids\"]\n",
    "        # replace padding tokens (0)\n",
    "        labels[labels == 0] = -100 # what we need for text generation \n",
    "\n",
    "        return dict(\n",
    "            text=text,\n",
    "            summary=data_row[\"Description\"],  # actual summary \n",
    "            text_input_ids = text_encoding[\"input_ids\"].flatten(), # so it can be easily patched \n",
    "            text_attention_mask = text_encoding[\"attention_mask\"].flatten(),\n",
    "            labels = labels.flatten(),\n",
    "            labels_attention_mask = summary_encoding[\"attention_mask\"].flatten()\n",
    "        )"
   ]
  },
  {
   "cell_type": "code",
   "execution_count": 26,
   "metadata": {},
   "outputs": [],
   "source": [
    "\n",
    "class SummaryDataModule(pl.LightningDataModule):\n",
    "    def __init__(\n",
    "        self,\n",
    "        train_df: pd.DataFrame,\n",
    "        test_df: pd.DataFrame,\n",
    "        tokenizer: T5TokenizerFast,\n",
    "        batch_size: int = 8,\n",
    "        text_max_token_len: int = 512,\n",
    "        summary_max_token_len: int = 128\n",
    "    ):\n",
    "        super().__init__()\n",
    "\n",
    "        self.train_df = train_df\n",
    "        self.test_df = test_df\n",
    "\n",
    "        self.batch_size = batch_size\n",
    "        self.tokenizer = tokenizer\n",
    "        self.text_max_token_len = text_max_token_len\n",
    "        self.summary_max_token_len = summary_max_token_len\n",
    "\n",
    "    \n",
    "    def setup(self, stage=None):\n",
    "        self.train_dataset = SummarizeDataset(\n",
    "            data=self.train_df,\n",
    "            tokenizer=self.tokenizer,\n",
    "            text_max_token_len=self.text_max_token_len,\n",
    "            summary_max_token_len=self.summary_max_token_len\n",
    "        )\n",
    "\n",
    "        self.test_dataset = SummarizeDataset(\n",
    "            data=self.test_df,\n",
    "            tokenizer=self.tokenizer,\n",
    "            text_max_token_len=self.text_max_token_len,\n",
    "            summary_max_token_len=self.summary_max_token_len\n",
    "        )\n",
    "    \n",
    "    def train_dataloader(self):\n",
    "        return DataLoader(\n",
    "            dataset=self.train_dataset,\n",
    "            batch_size=self.batch_size,\n",
    "            shuffle=True,\n",
    "            num_workers=2\n",
    "        )\n",
    "\n",
    "    def val_dataloader(self):\n",
    "        return DataLoader(\n",
    "            dataset=self.test_dataset,\n",
    "            batch_size=self.batch_size,\n",
    "            shuffle=False,\n",
    "            num_workers=2\n",
    "        )\n",
    "    \n",
    "    def test_dataloader(self):\n",
    "        return DataLoader(\n",
    "            dataset=self.test_dataset,\n",
    "            batch_size=self.batch_size,\n",
    "            shuffle=False,\n",
    "            num_workers=2\n",
    "        )\n"
   ]
  },
  {
   "cell_type": "code",
   "execution_count": 27,
   "metadata": {},
   "outputs": [],
   "source": [
    "MODEL_NAME = \"t5-base\"\n",
    "tokenizer = T5TokenizerFast.from_pretrained(MODEL_NAME)"
   ]
  },
  {
   "cell_type": "code",
   "execution_count": 28,
   "metadata": {},
   "outputs": [],
   "source": [
    "dummy_model = T5ForConditionalGeneration.from_pretrained(MODEL_NAME, return_dict=True)"
   ]
  },
  {
   "cell_type": "code",
   "execution_count": 29,
   "metadata": {},
   "outputs": [],
   "source": [
    "text_token_counts, summary_token_counts = [], []\n",
    "\n",
    "for _, row in train_df.iterrows():\n",
    "    text_token_count = len(tokenizer.encode(row[\"Patient\"]))\n",
    "    text_token_counts.append(text_token_count)\n",
    "\n",
    "    summary_token_count = len(tokenizer.encode(row[\"Description\"]))\n",
    "    summary_token_counts.append(summary_token_count)\n",
    "    "
   ]
  },
  {
   "cell_type": "code",
   "execution_count": 30,
   "metadata": {},
   "outputs": [
    {
     "data": {
      "text/plain": [
       "'Distribution of the Tokens '"
      ]
     },
     "execution_count": 30,
     "metadata": {},
     "output_type": "execute_result"
    },
    {
     "data": {
      "image/png": "[encoded data removed]",
      "text/plain": [
       "<Figure size 640x480 with 2 Axes>"
      ]
     },
     "metadata": {},
     "output_type": "display_data"
    }
   ],
   "source": [
    "fig, (ax1, ax2) = plt.subplots(1, 2)\n",
    "\n",
    "sns.histplot(text_token_counts, ax=ax1)\n",
    "ax1.set_title(\"Full Text Token Counts\")\n",
    "\n",
    "sns.histplot(summary_token_counts, ax=ax2)\n",
    "ax2.set_title(\"SSummary Text Token Counts\")\n",
    "\n",
    "\n",
    "\"\"\"Distribution of the Tokens \"\"\""
   ]
  },
  {
   "cell_type": "code",
   "execution_count": 31,
   "metadata": {},
   "outputs": [],
   "source": [
    "N_EPOCHS = 3\n",
    "BATCH_SIZE = 8 \n",
    "\n",
    "data_module = SummaryDataModule(train_df, test_df, tokenizer, batch_size=BATCH_SIZE)"
   ]
  },
  {
   "cell_type": "code",
   "execution_count": 32,
   "metadata": {},
   "outputs": [],
   "source": [
    "class SummaryModule(pl.LightningModule):\n",
    "\n",
    "    def __init__(self):\n",
    "        super().__init__()\n",
    "\n",
    "        self.model = T5ForConditionalGeneration.from_pretrained(\n",
    "            MODEL_NAME,\n",
    "            return_dict=True\n",
    "        )\n",
    "    \n",
    "    def forward(self, input_ids, attention_mask, decoder_attention_mask, labels=None):\n",
    "\n",
    "        output = self.model(\n",
    "            input_ids, \n",
    "            attention_mask = attention_mask, \n",
    "            labels = labels,\n",
    "            decoder_attention_mask = decoder_attention_mask\n",
    "        )\n",
    "\n",
    "        return output.loss, output.logits # loss in here \n",
    "    \n",
    "    def training_step(self, batch, batch_idx):\n",
    "        input_ids = batch[\"text_input_ids\"]\n",
    "        attention_mask = batch[\"text_attention_mask\"]\n",
    "        labels = batch[\"labels\"]\n",
    "        labels_attention_mask = batch[\"labels_attention_mask\"] \n",
    "\n",
    "        \n",
    "        loss, outputs = self(\n",
    "            input_ids=input_ids, \n",
    "            attention_mask=attention_mask,\n",
    "            decoder_attention_mask=labels_attention_mask, # for the summary \n",
    "            labels=labels\n",
    "        )\n",
    "\n",
    "        self.log(\"train_loss\", loss, prog_bar=True, logger=True)\n",
    "\n",
    "        return loss \n",
    "    \n",
    "    def validation_step(self, batch, batch_idx):\n",
    "        input_ids = batch[\"text_input_ids\"]\n",
    "        attention_mask = batch[\"text_attention_mask\"]\n",
    "        labels = batch[\"labels\"]\n",
    "        labels_attention_mask = batch[\"labels_attention_mask\"] \n",
    "\n",
    "        \n",
    "        loss, outputs = self(\n",
    "            input_ids=input_ids, \n",
    "            attention_mask=attention_mask,\n",
    "            decoder_attention_mask=labels_attention_mask, \n",
    "            labels=labels\n",
    "        )\n",
    "\n",
    "        self.log(\"val_loss\", loss, prog_bar=True, logger=True)\n",
    "\n",
    "        return loss \n",
    "    \n",
    "    def test_step(self, batch, batch_idx):\n",
    "        input_ids = batch[\"text_input_ids\"]\n",
    "        attention_mask = batch[\"text_attention_mask\"]\n",
    "        labels = batch[\"labels\"]\n",
    "        labels_attention_mask = batch[\"labels_attention_mask\"] \n",
    "\n",
    "        \n",
    "        loss, outputs = self(\n",
    "            input_ids=input_ids, \n",
    "            attention_mask=attention_mask,\n",
    "            decoder_attention_mask=labels_attention_mask, # for the summary \n",
    "            labels=labels\n",
    "        )\n",
    "\n",
    "        self.log(\"test_loss\", loss, prog_bar=True, logger=True)\n",
    "\n",
    "        return loss \n",
    "    \n",
    "    def configure_optimizers(self):\n",
    "        return AdamW(self.parameters(), lr=0.0001) # if you learn more, you will forget the previous knowledge \n",
    "    "
   ]
  },
  {
   "cell_type": "code",
   "execution_count": 33,
   "metadata": {},
   "outputs": [],
   "source": [
    "model = SummaryModule()"
   ]
  },
  {
   "cell_type": "code",
   "execution_count": 1,
   "metadata": {},
   "outputs": [
    {
     "data": {
      "text/plain": [
       "Launching TensorBoard..."
      ]
     },
     "metadata": {},
     "output_type": "display_data"
    }
   ],
   "source": [
    "%load_ext tensorboard\n",
    "%tensorboard --logdir ./lightning_logs"
   ]
  },
  {
   "cell_type": "code",
   "execution_count": 35,
   "metadata": {},
   "outputs": [
    {
     "name": "stderr",
     "output_type": "stream",
     "text": [
      "GPU available: True (mps), used: True\n",
      "TPU available: False, using: 0 TPU cores\n",
      "IPU available: False, using: 0 IPUs\n",
      "HPU available: False, using: 0 HPUs\n"
     ]
    }
   ],
   "source": [
    "checkpoint_callback = ModelCheckpoint(\n",
    "    dirpath=\"checkpoints\",\n",
    "    filename=\"best-checkpoints\",\n",
    "    save_top_k=1,\n",
    "    verbose=True,\n",
    "    monitor=\"val_loss\",\n",
    "    mode=\"min\"\n",
    ")\n",
    "\n",
    "\n",
    "logger = TensorBoardLogger(\"lightning_logs\", name=\"patient_summary\")\n",
    "\n",
    "trainer = pl.Trainer(\n",
    "    logger=logger,\n",
    "    callbacks=[checkpoint_callback],\n",
    "    max_epochs = N_EPOCHS,\n",
    "    enable_progress_bar=True,\n",
    ")"
   ]
  },
  {
   "cell_type": "code",
   "execution_count": 37,
   "metadata": {},
   "outputs": [
    {
     "name": "stderr",
     "output_type": "stream",
     "text": [
      "\n",
      "  | Name  | Type                       | Params\n",
      "-----------------------------------------------------\n",
      "0 | model | T5ForConditionalGeneration | 222 M \n",
      "-----------------------------------------------------\n",
      "222 M     Trainable params\n",
      "0         Non-trainable params\n",
      "222 M     Total params\n",
      "891.614   Total estimated model params size (MB)\n"
     ]
    },
    {
     "name": "stdout",
     "output_type": "stream",
     "text": [
      "                                                  "
     ]
    },
    {
     "name": "stdout",
     "output_type": "stream",
     "text": [
      "\r"
     ]
    },
    {
     "name": "stderr",
     "output_type": "stream",
     "text": [
      "Traceback (most recent call last):\n",
      "  File \"<string>\", line 1, in <module>\n",
      "  File \"/Library/Frameworks/Python.framework/Versions/3.10/lib/python3.10/multiprocessing/spawn.py\", line 116, in spawn_main\n",
      "    exitcode = _main(fd, parent_sentinel)\n",
      "  File \"/Library/Frameworks/Python.framework/Versions/3.10/lib/python3.10/multiprocessing/spawn.py\", line 126, in _main\n",
      "    self = reduction.pickle.load(from_parent)\n",
      "AttributeError: Can't get attribute 'SummarizeDataset' on <module '__main__' (built-in)>\n"
     ]
    }
   ],
   "source": [
    "trainer.fit(model, data_module)"
   ]
  },
  {
   "cell_type": "code",
   "execution_count": null,
   "metadata": {},
   "outputs": [],
   "source": [
    "trained_model = SummaryModule.load_from_checkpoint(\n",
    "    trainer.checkpoint_callback.best_model_path\n",
    ")\n",
    "\n",
    "trained_model.freeze() # to speed up the inference "
   ]
  },
  {
   "cell_type": "code",
   "execution_count": null,
   "metadata": {},
   "outputs": [],
   "source": [
    "def summarize(text):\n",
    "    text_encoding = tokenizer(\n",
    "        text, \n",
    "        max_length = 512,\n",
    "        padding=\"max_lenght\",\n",
    "        truncation=True,\n",
    "        return_attention_mask=True,\n",
    "        return_tensors=\"pt\"\n",
    "    )\n",
    "\n",
    "    generated_ids = trained_model.model.generate(\n",
    "        input_ids = text_encoding[\"input_ids\"],\n",
    "        attention_mask = text_encoding[\"attention_mask\"],\n",
    "        max_length = 150,\n",
    "        num_beams = 2, # for beam search \n",
    "        repetition_penalty = 2.5, # to penalize the model,\n",
    "        length_penalty = 1.0, \n",
    "        early_stopping = True\n",
    "    )\n",
    "\n",
    "    preds = [\n",
    "        tokenizer.decode(gen_id, skip_special_tokens=True, clean_up_tokenization_space=True)\n",
    "        for gen_id in generated_ids\n",
    "    ]\n",
    "\n",
    "    return \" \".join(preds)"
   ]
  },
  {
   "cell_type": "code",
   "execution_count": null,
   "metadata": {},
   "outputs": [],
   "source": [
    "sample_row = test_df.iloc[0]\n",
    "text = sample_row[\"Patient\"]\n",
    "model_summary = summarize(text)\n"
   ]
  },
  {
   "cell_type": "code",
   "execution_count": null,
   "metadata": {},
   "outputs": [],
   "source": [
    "text"
   ]
  },
  {
   "cell_type": "code",
   "execution_count": null,
   "metadata": {},
   "outputs": [],
   "source": [
    "sample_row[\"Description\"]"
   ]
  },
  {
   "cell_type": "code",
   "execution_count": null,
   "metadata": {},
   "outputs": [],
   "source": [
    "model_summary"
   ]
  },
  {
   "cell_type": "code",
   "execution_count": null,
   "metadata": {},
   "outputs": [],
   "source": []
  }
 ],
 "metadata": {
  "kernelspec": {
   "display_name": "env_ai",
   "language": "python",
   "name": "python3"
  },
  "language_info": {
   "codemirror_mode": {
    "name": "ipython",
    "version": 3
   },
   "file_extension": ".py",
   "mimetype": "text/x-python",
   "name": "python",
   "nbconvert_exporter": "python",
   "pygments_lexer": "ipython3",
   "version": "3.10.12"
  }
 },
 "nbformat": 4,
 "nbformat_minor": 2
}
