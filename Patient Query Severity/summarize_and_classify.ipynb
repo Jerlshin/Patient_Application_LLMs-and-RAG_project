{
 "cells": [
  {
   "cell_type": "code",
   "execution_count": 1,
   "metadata": {},
   "outputs": [
    {
     "name": "stderr",
     "output_type": "stream",
     "text": [
      "2024-04-21 00:18:54.903558: W tensorflow/compiler/tf2tensorrt/utils/py_utils.cc:38] TF-TRT Warning: Could not find TensorRT\n"
     ]
    }
   ],
   "source": [
    "import torch\n",
    "from torch import nn\n",
    "from torch.utils.data import TensorDataset, DataLoader, Dataset\n",
    "import transformers\n",
    "from datasets import load_dataset\n",
    "from transformers import (\n",
    "    AutoTokenizer,\n",
    "    AutoModelForSeq2SeqLM,\n",
    "    AutoModel,\n",
    "    BartModel,\n",
    "    BartForConditionalGeneration,\n",
    "    AutoModelForSequenceClassification,\n",
    "    Trainer, TrainingArguments,\n",
    "    pipeline,\n",
    "    BertTokenizerFast, BertForSequenceClassification\n",
    ")\n",
    "from gradio import Interface\n",
    "import pandas as pd\n",
    "import numpy as np\n",
    "from sklearn.model_selection import train_test_split\n",
    "from sklearn.preprocessing import LabelEncoder\n",
    "import torch.optim as optim\n",
    "from torch.utils.tensorboard import SummaryWriter\n",
    "import torch.nn.functional as F\n",
    "from tqdm import tqdm\n",
    "from sklearn.metrics import accuracy_score, precision_recall_fscore_support\n"
   ]
  },
  {
   "cell_type": "code",
   "execution_count": 2,
   "metadata": {},
   "outputs": [
    {
     "data": {
      "text/plain": [
       "device(type='cuda')"
      ]
     },
     "execution_count": 2,
     "metadata": {},
     "output_type": "execute_result"
    }
   ],
   "source": [
    "device = torch.device(\"cuda\" if torch.cuda.is_available() else \"cpu\")\n",
    "\n",
    "device"
   ]
  },
  {
   "cell_type": "code",
   "execution_count": 3,
   "metadata": {},
   "outputs": [],
   "source": [
    "BATCH_SIZE = 16"
   ]
  },
  {
   "cell_type": "markdown",
   "metadata": {},
   "source": [
    "### Dataset"
   ]
  },
  {
   "cell_type": "code",
   "execution_count": 17,
   "metadata": {},
   "outputs": [
    {
     "data": {
      "text/plain": [
       "'LOAD FROM PROCESSED DATA'"
      ]
     },
     "execution_count": 17,
     "metadata": {},
     "output_type": "execute_result"
    }
   ],
   "source": [
    "\"\"\"LOAD FROM PROCESSED DATA\"\"\""
   ]
  },
  {
   "cell_type": "code",
   "execution_count": 4,
   "metadata": {},
   "outputs": [],
   "source": [
    "dataset = load_dataset(\"mahfoos/Patient-Doctor-Conversation\")"
   ]
  },
  {
   "cell_type": "code",
   "execution_count": 5,
   "metadata": {},
   "outputs": [
    {
     "data": {
      "text/plain": [
       "DatasetDict({\n",
       "    train: Dataset({\n",
       "        features: ['Description', 'Doctor', 'Patient', 'Status'],\n",
       "        num_rows: 3325\n",
       "    })\n",
       "})"
      ]
     },
     "execution_count": 5,
     "metadata": {},
     "output_type": "execute_result"
    }
   ],
   "source": [
    "dataset"
   ]
  },
  {
   "cell_type": "code",
   "execution_count": 6,
   "metadata": {},
   "outputs": [
    {
     "data": {
      "text/plain": [
       "Dataset({\n",
       "    features: ['Patient', 'Status'],\n",
       "    num_rows: 3325\n",
       "})"
      ]
     },
     "execution_count": 6,
     "metadata": {},
     "output_type": "execute_result"
    }
   ],
   "source": [
    "dataset[\"train\"].select_columns([\"Patient\", \"Status\"])"
   ]
  },
  {
   "cell_type": "code",
   "execution_count": 7,
   "metadata": {},
   "outputs": [],
   "source": [
    "pd_dataset = pd.DataFrame(dataset[\"train\"].select_columns([\"Patient\", \"Status\"]))"
   ]
  },
  {
   "cell_type": "code",
   "execution_count": 8,
   "metadata": {},
   "outputs": [
    {
     "data": {
      "text/html": [
       "<div>\n",
       "<style scoped>\n",
       "    .dataframe tbody tr th:only-of-type {\n",
       "        vertical-align: middle;\n",
       "    }\n",
       "\n",
       "    .dataframe tbody tr th {\n",
       "        vertical-align: top;\n",
       "    }\n",
       "\n",
       "    .dataframe thead th {\n",
       "        text-align: right;\n",
       "    }\n",
       "</style>\n",
       "<table border=\"1\" class=\"dataframe\">\n",
       "  <thead>\n",
       "    <tr style=\"text-align: right;\">\n",
       "      <th></th>\n",
       "      <th>Patient</th>\n",
       "      <th>Status</th>\n",
       "    </tr>\n",
       "  </thead>\n",
       "  <tbody>\n",
       "    <tr>\n",
       "      <th>0</th>\n",
       "      <td>hi doctor I am just wondering what is abutting...</td>\n",
       "      <td>medium severity</td>\n",
       "    </tr>\n",
       "    <tr>\n",
       "      <th>1</th>\n",
       "      <td>hi doctor I am a 26 year old male I am feet an...</td>\n",
       "      <td>high severity</td>\n",
       "    </tr>\n",
       "    <tr>\n",
       "      <th>2</th>\n",
       "      <td>hello doctor I am 48 years old I am experienci...</td>\n",
       "      <td>low severity</td>\n",
       "    </tr>\n",
       "    <tr>\n",
       "      <th>3</th>\n",
       "      <td>hello doctor I have multiple small cysts in bo...</td>\n",
       "      <td>medium severity</td>\n",
       "    </tr>\n",
       "    <tr>\n",
       "      <th>4</th>\n",
       "      <td>hi doctor during masturbation I just rub the t...</td>\n",
       "      <td>low severity</td>\n",
       "    </tr>\n",
       "    <tr>\n",
       "      <th>...</th>\n",
       "      <td>...</td>\n",
       "      <td>...</td>\n",
       "    </tr>\n",
       "    <tr>\n",
       "      <th>3320</th>\n",
       "      <td>hello doctor I am currently seeking help and I...</td>\n",
       "      <td>high severity</td>\n",
       "    </tr>\n",
       "    <tr>\n",
       "      <th>3321</th>\n",
       "      <td>hi doctor I fell on a wooden set of stairs las...</td>\n",
       "      <td>medium severity</td>\n",
       "    </tr>\n",
       "    <tr>\n",
       "      <th>3322</th>\n",
       "      <td>hi doctor my mother is 57 years old she has re...</td>\n",
       "      <td>low severity</td>\n",
       "    </tr>\n",
       "    <tr>\n",
       "      <th>3323</th>\n",
       "      <td>hi doctor my 18 month old daughter has had pro...</td>\n",
       "      <td>medium severity</td>\n",
       "    </tr>\n",
       "    <tr>\n",
       "      <th>3324</th>\n",
       "      <td>hi doctor I have a reddish rash on my inner th...</td>\n",
       "      <td>low severity</td>\n",
       "    </tr>\n",
       "  </tbody>\n",
       "</table>\n",
       "<p>3325 rows × 2 columns</p>\n",
       "</div>"
      ],
      "text/plain": [
       "                                                Patient           Status\n",
       "0     hi doctor I am just wondering what is abutting...  medium severity\n",
       "1     hi doctor I am a 26 year old male I am feet an...    high severity\n",
       "2     hello doctor I am 48 years old I am experienci...     low severity\n",
       "3     hello doctor I have multiple small cysts in bo...  medium severity\n",
       "4     hi doctor during masturbation I just rub the t...     low severity\n",
       "...                                                 ...              ...\n",
       "3320  hello doctor I am currently seeking help and I...    high severity\n",
       "3321  hi doctor I fell on a wooden set of stairs las...  medium severity\n",
       "3322  hi doctor my mother is 57 years old she has re...     low severity\n",
       "3323  hi doctor my 18 month old daughter has had pro...  medium severity\n",
       "3324  hi doctor I have a reddish rash on my inner th...     low severity\n",
       "\n",
       "[3325 rows x 2 columns]"
      ]
     },
     "execution_count": 8,
     "metadata": {},
     "output_type": "execute_result"
    }
   ],
   "source": [
    "pd_dataset"
   ]
  },
  {
   "cell_type": "code",
   "execution_count": 9,
   "metadata": {},
   "outputs": [],
   "source": [
    "label_map = {\"high severity\": 0, \"medium severity\": 1, \"low severity\": 2}\n",
    "pd_dataset[\"Status\"] = pd_dataset[\"Status\"].replace(label_map)"
   ]
  },
  {
   "cell_type": "code",
   "execution_count": 10,
   "metadata": {},
   "outputs": [
    {
     "data": {
      "text/plain": [
       "Patient    hi doctor I am just wondering what is abutting...\n",
       "Status                                                     1\n",
       "Name: 0, dtype: object"
      ]
     },
     "execution_count": 10,
     "metadata": {},
     "output_type": "execute_result"
    }
   ],
   "source": [
    "pd_dataset.iloc[0]"
   ]
  },
  {
   "cell_type": "code",
   "execution_count": 11,
   "metadata": {},
   "outputs": [
    {
     "name": "stdout",
     "output_type": "stream",
     "text": [
      "<class 'pandas.core.frame.DataFrame'>\n",
      "RangeIndex: 3325 entries, 0 to 3324\n",
      "Data columns (total 2 columns):\n",
      " #   Column   Non-Null Count  Dtype \n",
      "---  ------   --------------  ----- \n",
      " 0   Patient  3325 non-null   object\n",
      " 1   Status   3325 non-null   object\n",
      "dtypes: object(2)\n",
      "memory usage: 52.1+ KB\n"
     ]
    }
   ],
   "source": [
    "pd_dataset.info()"
   ]
  },
  {
   "cell_type": "code",
   "execution_count": 12,
   "metadata": {},
   "outputs": [],
   "source": [
    "pd_dataset[\"Status\"] = pd_dataset[\"Status\"].astype(str)"
   ]
  },
  {
   "cell_type": "code",
   "execution_count": 13,
   "metadata": {},
   "outputs": [
    {
     "data": {
      "text/html": [
       "<div>\n",
       "<style scoped>\n",
       "    .dataframe tbody tr th:only-of-type {\n",
       "        vertical-align: middle;\n",
       "    }\n",
       "\n",
       "    .dataframe tbody tr th {\n",
       "        vertical-align: top;\n",
       "    }\n",
       "\n",
       "    .dataframe thead th {\n",
       "        text-align: right;\n",
       "    }\n",
       "</style>\n",
       "<table border=\"1\" class=\"dataframe\">\n",
       "  <thead>\n",
       "    <tr style=\"text-align: right;\">\n",
       "      <th></th>\n",
       "      <th>Patient</th>\n",
       "      <th>Status</th>\n",
       "    </tr>\n",
       "  </thead>\n",
       "  <tbody>\n",
       "    <tr>\n",
       "      <th>0</th>\n",
       "      <td>hi doctor I am just wondering what is abutting...</td>\n",
       "      <td>1</td>\n",
       "    </tr>\n",
       "    <tr>\n",
       "      <th>1</th>\n",
       "      <td>hi doctor I am a 26 year old male I am feet an...</td>\n",
       "      <td>0</td>\n",
       "    </tr>\n",
       "    <tr>\n",
       "      <th>2</th>\n",
       "      <td>hello doctor I am 48 years old I am experienci...</td>\n",
       "      <td>2</td>\n",
       "    </tr>\n",
       "    <tr>\n",
       "      <th>3</th>\n",
       "      <td>hello doctor I have multiple small cysts in bo...</td>\n",
       "      <td>1</td>\n",
       "    </tr>\n",
       "    <tr>\n",
       "      <th>4</th>\n",
       "      <td>hi doctor during masturbation I just rub the t...</td>\n",
       "      <td>2</td>\n",
       "    </tr>\n",
       "  </tbody>\n",
       "</table>\n",
       "</div>"
      ],
      "text/plain": [
       "                                             Patient Status\n",
       "0  hi doctor I am just wondering what is abutting...      1\n",
       "1  hi doctor I am a 26 year old male I am feet an...      0\n",
       "2  hello doctor I am 48 years old I am experienci...      2\n",
       "3  hello doctor I have multiple small cysts in bo...      1\n",
       "4  hi doctor during masturbation I just rub the t...      2"
      ]
     },
     "execution_count": 13,
     "metadata": {},
     "output_type": "execute_result"
    }
   ],
   "source": [
    "pd_dataset.head()"
   ]
  },
  {
   "cell_type": "code",
   "execution_count": 16,
   "metadata": {},
   "outputs": [],
   "source": [
    "train_data, test_data = train_test_split(pd_dataset, test_size=0.2, random_state=42)\n",
    "\n",
    "train_data, valid_data = train_test_split(train_data, test_size=0.1, random_state=42)"
   ]
  },
  {
   "cell_type": "code",
   "execution_count": 14,
   "metadata": {},
   "outputs": [
    {
     "data": {
      "text/plain": [
       "(2394, 2)"
      ]
     },
     "execution_count": 14,
     "metadata": {},
     "output_type": "execute_result"
    }
   ],
   "source": [
    "train_data.shape"
   ]
  },
  {
   "cell_type": "code",
   "execution_count": 15,
   "metadata": {},
   "outputs": [
    {
     "data": {
      "text/plain": [
       "(665, 2)"
      ]
     },
     "execution_count": 15,
     "metadata": {},
     "output_type": "execute_result"
    }
   ],
   "source": [
    "test_data.shape"
   ]
  },
  {
   "cell_type": "code",
   "execution_count": 16,
   "metadata": {},
   "outputs": [
    {
     "data": {
      "text/plain": [
       "(266, 2)"
      ]
     },
     "execution_count": 16,
     "metadata": {},
     "output_type": "execute_result"
    }
   ],
   "source": [
    "valid_data.shape"
   ]
  },
  {
   "cell_type": "code",
   "execution_count": 17,
   "metadata": {},
   "outputs": [
    {
     "data": {
      "text/plain": [
       "'hi doctor during masturbation I just rub the tip of the penis and not the entire penis is it a wrong way of doing I do not get excited during sex and unable to ejaculate only rubbing the tip of the penis gives me excitement also two weeks ago I have undergone circumcision as my foreskin did not retract before circumcision too I have the same problem please help'"
      ]
     },
     "execution_count": 17,
     "metadata": {},
     "output_type": "execute_result"
    }
   ],
   "source": [
    "pd_dataset[\"Patient\"].to_list()[4]"
   ]
  },
  {
   "cell_type": "code",
   "execution_count": 18,
   "metadata": {},
   "outputs": [],
   "source": [
    "class BioBERTDataset(TensorDataset):\n",
    "    def __init__(self, data):\n",
    "        super(BioBERTDataset, self).__init__()\n",
    "        self.texts = data[\"Patient\"].tolist()\n",
    "        self.labels = data[\"Status\"].to_list()\n",
    "    \n",
    "    def __len__(self):\n",
    "        return len(self.texts)\n",
    "    \n",
    "    def __getitem__(self, index):\n",
    "        text = self.texts[index]\n",
    "        label = self.labels[index]\n",
    "\n",
    "        return text, label"
   ]
  },
  {
   "cell_type": "markdown",
   "metadata": {},
   "source": [
    "# M1"
   ]
  },
  {
   "cell_type": "markdown",
   "metadata": {},
   "source": [
    "### Fine Tuning Model with Language Understanding "
   ]
  },
  {
   "cell_type": "code",
   "execution_count": 18,
   "metadata": {},
   "outputs": [
    {
     "name": "stderr",
     "output_type": "stream",
     "text": [
      "/home/jerlshin/env_ai/lib/python3.10/site-packages/torch/_utils.py:776: UserWarning: TypedStorage is deprecated. It will be removed in the future and UntypedStorage will be the only storage class. This should only matter to you if you are using storages directly.  To access UntypedStorage directly, use tensor.untyped_storage() instead of tensor.storage()\n",
      "  return self.fget.__get__(instance, owner)()\n"
     ]
    }
   ],
   "source": [
    "biobert_tokenizer = AutoTokenizer.from_pretrained(\"dmis-lab/biobert-v1.1\")\n",
    "biobert_model = AutoModel.from_pretrained(\"dmis-lab/biobert-v1.1\")\n",
    "\n",
    "feature_extractor = pipeline(\n",
    "            task=\"feature-extraction\",\n",
    "            model=biobert_model,\n",
    "            tokenizer=biobert_tokenizer,\n",
    "            framework=\"pt\"\n",
    "        )"
   ]
  },
  {
   "cell_type": "code",
   "execution_count": 20,
   "metadata": {},
   "outputs": [
    {
     "data": {
      "text/plain": [
       "28996"
      ]
     },
     "execution_count": 20,
     "metadata": {},
     "output_type": "execute_result"
    }
   ],
   "source": [
    "biobert_tokenizer.vocab_size"
   ]
  },
  {
   "cell_type": "code",
   "execution_count": 21,
   "metadata": {},
   "outputs": [
    {
     "data": {
      "text/plain": [
       "BertTokenizerFast(name_or_path='dmis-lab/biobert-v1.1', vocab_size=28996, model_max_length=512, is_fast=True, padding_side='right', truncation_side='right', special_tokens={'unk_token': '[UNK]', 'sep_token': '[SEP]', 'pad_token': '[PAD]', 'cls_token': '[CLS]', 'mask_token': '[MASK]'}, clean_up_tokenization_spaces=True),  added_tokens_decoder={\n",
       "\t0: AddedToken(\"[PAD]\", rstrip=False, lstrip=False, single_word=False, normalized=False, special=True),\n",
       "\t100: AddedToken(\"[UNK]\", rstrip=False, lstrip=False, single_word=False, normalized=False, special=True),\n",
       "\t101: AddedToken(\"[CLS]\", rstrip=False, lstrip=False, single_word=False, normalized=False, special=True),\n",
       "\t102: AddedToken(\"[SEP]\", rstrip=False, lstrip=False, single_word=False, normalized=False, special=True),\n",
       "\t103: AddedToken(\"[MASK]\", rstrip=False, lstrip=False, single_word=False, normalized=False, special=True),\n",
       "}"
      ]
     },
     "execution_count": 21,
     "metadata": {},
     "output_type": "execute_result"
    }
   ],
   "source": [
    "biobert_tokenizer"
   ]
  },
  {
   "cell_type": "code",
   "execution_count": 22,
   "metadata": {},
   "outputs": [
    {
     "data": {
      "text/plain": [
       "BertModel(\n",
       "  (embeddings): BertEmbeddings(\n",
       "    (word_embeddings): Embedding(28996, 768, padding_idx=0)\n",
       "    (position_embeddings): Embedding(512, 768)\n",
       "    (token_type_embeddings): Embedding(2, 768)\n",
       "    (LayerNorm): LayerNorm((768,), eps=1e-12, elementwise_affine=True)\n",
       "    (dropout): Dropout(p=0.1, inplace=False)\n",
       "  )\n",
       "  (encoder): BertEncoder(\n",
       "    (layer): ModuleList(\n",
       "      (0-11): 12 x BertLayer(\n",
       "        (attention): BertAttention(\n",
       "          (self): BertSelfAttention(\n",
       "            (query): Linear(in_features=768, out_features=768, bias=True)\n",
       "            (key): Linear(in_features=768, out_features=768, bias=True)\n",
       "            (value): Linear(in_features=768, out_features=768, bias=True)\n",
       "            (dropout): Dropout(p=0.1, inplace=False)\n",
       "          )\n",
       "          (output): BertSelfOutput(\n",
       "            (dense): Linear(in_features=768, out_features=768, bias=True)\n",
       "            (LayerNorm): LayerNorm((768,), eps=1e-12, elementwise_affine=True)\n",
       "            (dropout): Dropout(p=0.1, inplace=False)\n",
       "          )\n",
       "        )\n",
       "        (intermediate): BertIntermediate(\n",
       "          (dense): Linear(in_features=768, out_features=3072, bias=True)\n",
       "          (intermediate_act_fn): GELUActivation()\n",
       "        )\n",
       "        (output): BertOutput(\n",
       "          (dense): Linear(in_features=3072, out_features=768, bias=True)\n",
       "          (LayerNorm): LayerNorm((768,), eps=1e-12, elementwise_affine=True)\n",
       "          (dropout): Dropout(p=0.1, inplace=False)\n",
       "        )\n",
       "      )\n",
       "    )\n",
       "  )\n",
       "  (pooler): BertPooler(\n",
       "    (dense): Linear(in_features=768, out_features=768, bias=True)\n",
       "    (activation): Tanh()\n",
       "  )\n",
       ")"
      ]
     },
     "execution_count": 22,
     "metadata": {},
     "output_type": "execute_result"
    }
   ],
   "source": [
    "biobert_model"
   ]
  },
  {
   "cell_type": "code",
   "execution_count": 23,
   "metadata": {},
   "outputs": [
    {
     "data": {
      "text/plain": [
       "'hello doctor I am having issues with hearing pain pressure and sensitivity to noise can slough in ear be painful I am currently using topamax allegra baby aspirin tylenol aleve and ibuprofen'"
      ]
     },
     "execution_count": 23,
     "metadata": {},
     "output_type": "execute_result"
    }
   ],
   "source": [
    "train_data.iloc[1][\"Patient\"]"
   ]
  },
  {
   "cell_type": "code",
   "execution_count": 24,
   "metadata": {},
   "outputs": [
    {
     "data": {
      "text/plain": [
       "'1'"
      ]
     },
     "execution_count": 24,
     "metadata": {},
     "output_type": "execute_result"
    }
   ],
   "source": [
    "train_data.iloc[1][\"Status\"]"
   ]
  },
  {
   "cell_type": "code",
   "execution_count": 32,
   "metadata": {},
   "outputs": [],
   "source": [
    "class CustomDataset(Dataset):\n",
    "    def __init__(self, data, tokenizer):    # data and tokenizer \n",
    "        self.data = data\n",
    "        self.tokenizer = tokenizer\n",
    "        self.max_length = 512\n",
    "    \n",
    "    def __len__(self):\n",
    "        return len(self.data)\n",
    "    \n",
    "    def __getitem__(self, idx):\n",
    "        # take dataset\n",
    "        text = self.data.iloc[idx][\"Patient\"]\n",
    "        label = int(self.data.iloc[idx][\"Status\"])\n",
    "\n",
    "        # encoding \n",
    "        encoding = self.tokenizer(text, return_tensors=\"pt\", padding=\"max_length\", truncation=True, max_length=self.max_length)\n",
    "\n",
    "        # take the input and the mask \n",
    "        input_ids = encoding[\"input_ids\"].squeeze() # remove the empty dimenstion \n",
    "        attention_mask = encoding[\"attention_mask\"].squeeze()\n",
    "\n",
    "        input_ids = input_ids.to(device)\n",
    "        attention_mask = attention_mask.to(device)\n",
    "        label = torch.tensor(label).to(device)\n",
    "\n",
    "        return input_ids, attention_mask, label\n",
    "    \n",
    "\n",
    "# creating datasets\n",
    "train_dataset = CustomDataset(train_data, biobert_tokenizer)\n",
    "valid_dataset = CustomDataset(valid_data, biobert_tokenizer)\n",
    "test_dataset = CustomDataset(test_data, biobert_tokenizer)\n",
    "\n",
    "\n",
    "# creating dataloader\n",
    "train_dataloader = DataLoader(train_dataset, batch_size=BATCH_SIZE, shuffle=True)\n",
    "valid_dataloader = DataLoader(valid_dataset, batch_size=BATCH_SIZE, shuffle=False)\n",
    "test_dataloader = DataLoader(test_dataset, batch_size=BATCH_SIZE, shuffle=False)"
   ]
  },
  {
   "cell_type": "code",
   "execution_count": 33,
   "metadata": {},
   "outputs": [
    {
     "data": {
      "text/plain": [
       "(<__main__.CustomDataset at 0x74c2bd4111e0>,\n",
       " <torch.utils.data.dataloader.DataLoader at 0x74c2bd4132e0>)"
      ]
     },
     "execution_count": 33,
     "metadata": {},
     "output_type": "execute_result"
    }
   ],
   "source": [
    "train_dataset, train_dataloader"
   ]
  },
  {
   "cell_type": "code",
   "execution_count": 34,
   "metadata": {},
   "outputs": [],
   "source": [
    "class BioBERTClass(nn.Module):\n",
    "    def __init__(self):\n",
    "        super(BioBERTClass, self).__init__()\n",
    "        \n",
    "        self.biobert_tokenizer = AutoTokenizer.from_pretrained(\"dmis-lab/biobert-v1.1\")\n",
    "        self.biobert_model = AutoModel.from_pretrained(\"dmis-lab/biobert-v1.1\")\n",
    "\n",
    "        # self.feature_extractor = feature_extractor\n",
    "        self.pre_classifier = torch.nn.Linear(768, 768)\n",
    "        self.dropout = nn.Dropout(0.3)\n",
    "        self.classifier = nn.Linear(768, 3) # high, low, med \n",
    "    \n",
    "    def forward(self, input_ids, attention_mask):\n",
    "        # inputs = self.biobert_tokenizer(text, return_tensors=\"pt\", padding=True, truncation=True)\n",
    "        # input_ids = inputs[\"input_ids\"]\n",
    "        # attention_mask = inputs[\"attention_mask\"]\n",
    "\n",
    "        # outputs = self.feature_extractor(text)\n",
    "        outputs = self.biobert_model(input_ids=input_ids, attention_mask=attention_mask)\n",
    "        pooled_output = outputs.pooler_output\n",
    "\n",
    "        pre_clss = self.pre_classifier(pooled_output)\n",
    "        pre_clss = torch.nn.functional.relu(pre_clss)\n",
    "        pre_clss = self.dropout(pre_clss)\n",
    "        logits = self.classifier(pre_clss)\n",
    "\n",
    "        \n",
    "        return logits\n",
    "    "
   ]
  },
  {
   "cell_type": "code",
   "execution_count": null,
   "metadata": {},
   "outputs": [],
   "source": [
    "for (input_ids, attention_mask, label) in train_dataloader:\n",
    "    model = BioBERTClass()\n",
    "    model.to(device)\n",
    "    logits = model(input_ids, attention_mask)\n",
    "    print(logits)\n",
    "    print(label)\n",
    "    break"
   ]
  },
  {
   "cell_type": "markdown",
   "metadata": {},
   "source": [
    "### Infering Model outputs"
   ]
  },
  {
   "cell_type": "code",
   "execution_count": 83,
   "metadata": {},
   "outputs": [],
   "source": [
    "text = \"In most cases, using the pipeline is a more convenient and robust approach for feature extraction with BioBERT. It streamlines the process and reduces the potential for errors.\"\n"
   ]
  },
  {
   "cell_type": "code",
   "execution_count": 59,
   "metadata": {},
   "outputs": [],
   "source": [
    "tok = biobert_tokenizer(text=text, return_attention_mask=True, return_tensors=\"pt\")"
   ]
  },
  {
   "cell_type": "code",
   "execution_count": 60,
   "metadata": {},
   "outputs": [
    {
     "data": {
      "text/plain": [
       "{'input_ids': tensor([[  101, 25267,  1110,  1126, 14918,  3340,   106,   102]]), 'token_type_ids': tensor([[0, 0, 0, 0, 0, 0, 0, 0]]), 'attention_mask': tensor([[1, 1, 1, 1, 1, 1, 1, 1]])}"
      ]
     },
     "execution_count": 60,
     "metadata": {},
     "output_type": "execute_result"
    }
   ],
   "source": [
    "tok"
   ]
  },
  {
   "cell_type": "code",
   "execution_count": 64,
   "metadata": {},
   "outputs": [],
   "source": [
    "result = biobert_model(tok[\"input_ids\"], attention_mask=tok[\"attention_mask\"])"
   ]
  },
  {
   "cell_type": "code",
   "execution_count": 70,
   "metadata": {},
   "outputs": [],
   "source": [
    "result.cross_attentions"
   ]
  },
  {
   "cell_type": "code",
   "execution_count": 71,
   "metadata": {},
   "outputs": [],
   "source": [
    "result.hidden_states"
   ]
  },
  {
   "cell_type": "code",
   "execution_count": 72,
   "metadata": {},
   "outputs": [
    {
     "data": {
      "text/plain": [
       "tensor([[[ 0.5785,  0.6512, -0.1213,  ..., -0.1627,  0.5340, -0.0945],\n",
       "         [ 0.2206,  0.2317, -0.5591,  ...,  0.0954,  0.2765,  0.1342],\n",
       "         [ 0.4252,  0.7822,  0.2654,  ...,  0.0571,  0.5467, -0.0198],\n",
       "         ...,\n",
       "         [ 0.4598,  0.3177, -0.2936,  ...,  0.0017, -0.0205,  0.2446],\n",
       "         [ 0.2431,  0.2347,  0.3534,  ...,  0.1866,  0.2375, -0.1035],\n",
       "         [ 0.7031,  0.4518, -0.6258,  ...,  0.1520,  0.6689, -1.1636]]],\n",
       "       grad_fn=<NativeLayerNormBackward0>)"
      ]
     },
     "execution_count": 72,
     "metadata": {},
     "output_type": "execute_result"
    }
   ],
   "source": [
    "result.last_hidden_state"
   ]
  },
  {
   "cell_type": "code",
   "execution_count": 67,
   "metadata": {},
   "outputs": [
    {
     "data": {
      "text/plain": [
       "tensor([[[ 0.5785,  0.6512, -0.1213,  ..., -0.1627,  0.5340, -0.0945],\n",
       "         [ 0.2206,  0.2317, -0.5591,  ...,  0.0954,  0.2765,  0.1342],\n",
       "         [ 0.4252,  0.7822,  0.2654,  ...,  0.0571,  0.5467, -0.0198],\n",
       "         ...,\n",
       "         [ 0.4598,  0.3177, -0.2936,  ...,  0.0017, -0.0205,  0.2446],\n",
       "         [ 0.2431,  0.2347,  0.3534,  ...,  0.1866,  0.2375, -0.1035],\n",
       "         [ 0.7031,  0.4518, -0.6258,  ...,  0.1520,  0.6689, -1.1636]]],\n",
       "       grad_fn=<NativeLayerNormBackward0>)"
      ]
     },
     "execution_count": 67,
     "metadata": {},
     "output_type": "execute_result"
    }
   ],
   "source": [
    "result[0]"
   ]
  },
  {
   "cell_type": "code",
   "execution_count": 73,
   "metadata": {},
   "outputs": [
    {
     "data": {
      "text/plain": [
       "<function BaseModelOutputWithPoolingAndCrossAttentions.values>"
      ]
     },
     "execution_count": 73,
     "metadata": {},
     "output_type": "execute_result"
    }
   ],
   "source": [
    "result.values"
   ]
  },
  {
   "cell_type": "code",
   "execution_count": 74,
   "metadata": {},
   "outputs": [],
   "source": [
    "result.attentions"
   ]
  },
  {
   "cell_type": "code",
   "execution_count": 75,
   "metadata": {},
   "outputs": [
    {
     "data": {
      "text/plain": [
       "tensor([[ 0.0327,  0.0473,  0.9227, -1.0000,  1.0000,  0.4457,  0.0973,  0.8852,\n",
       "         -0.0636, -0.0211,  0.8452,  1.0000, -0.3038, -0.8659, -0.0688, -0.1158,\n",
       "          1.0000,  0.1385, -0.9972, -0.1953, -0.2052, -0.9581, -0.0098,  0.9992,\n",
       "         -0.1077, -0.0291,  1.0000,  0.9975,  0.0387, -0.0333, -0.0643, -1.0000,\n",
       "          0.9871, -1.0000,  0.2207,  0.0517, -0.0165, -0.0924,  0.7320, -0.9987,\n",
       "         -0.0388, -0.5510, -0.0134,  0.0413,  0.9998, -0.0168, -0.1356, -0.0703,\n",
       "          0.0484,  0.4126,  0.0756,  0.9471,  0.3430,  0.9966,  0.9998,  0.0634,\n",
       "          1.0000,  0.1296,  0.6168, -0.1301,  1.0000, -0.0605,  0.1722,  0.0146,\n",
       "          0.0659,  0.0018, -0.9801,  0.0555,  0.0439, -0.0077,  0.0695, -0.0121,\n",
       "          0.9985, -0.9999, -0.0817,  0.0432,  0.0633, -0.9157,  0.9994,  0.9999,\n",
       "         -0.0636, -0.9975,  1.0000,  0.0529, -0.2195, -0.0039,  0.5829, -0.9999,\n",
       "          0.0692, -0.0177,  0.8689, -1.0000,  0.0389, -0.6769,  0.9966,  0.3122,\n",
       "         -0.0956,  0.2020,  0.8064, -0.1389,  0.1314,  0.9961, -0.0493,  0.7492,\n",
       "          0.1934, -0.0317,  0.1020, -0.1637,  0.0681,  0.0618,  0.0493, -0.0787,\n",
       "         -0.0194, -0.0860,  0.9969,  0.6603,  1.0000,  0.9701, -0.1861,  0.9981,\n",
       "          0.0109,  0.9893,  0.9999, -0.0199, -0.0428,  0.0230, -0.0604,  0.9995,\n",
       "         -0.1212,  0.0116,  0.1139, -0.9999, -0.9997,  0.9974, -0.0701,  0.9999,\n",
       "         -0.9998,  0.9369, -0.9535, -0.2927, -0.9211, -0.0694, -0.9955, -0.0340,\n",
       "          0.9999,  0.1371, -0.9995, -0.0813,  0.0976,  0.0345,  0.0656, -0.1221,\n",
       "          0.0577,  0.9803,  0.9703,  0.9994,  0.9997,  0.0056, -0.2339,  0.9685,\n",
       "          0.0596, -0.9994, -0.0374, -0.9995,  0.9926,  0.9999,  0.1536,  0.8070,\n",
       "          0.9998,  0.0397,  0.1784, -0.0310,  0.0185,  0.6897,  0.0876, -0.0881,\n",
       "         -0.1293, -0.0947, -0.9998, -0.0364,  0.6480,  0.0590,  0.0814, -0.4882,\n",
       "         -1.0000, -0.0252, -0.9991, -0.0715, -0.0023,  0.0567,  0.0594,  0.9998,\n",
       "         -0.6423, -0.0571,  0.0716, -0.0848,  0.9975, -0.0702,  0.9994, -0.0286,\n",
       "         -1.0000, -0.8254,  0.1333,  0.2006, -0.0482,  0.0666, -0.0720, -0.0516,\n",
       "         -0.4360, -0.9799, -0.8249,  0.0785,  0.0943, -0.1600,  0.0553,  0.0934,\n",
       "         -0.1966,  0.0378, -0.0270,  0.9986, -0.9999, -0.0520,  0.0683, -1.0000,\n",
       "         -1.0000,  0.0601,  0.0053, -0.0210,  0.0341, -0.6891,  0.0150,  0.9973,\n",
       "          1.0000, -0.0853,  0.1363, -0.9980,  0.7386,  0.0643, -0.0906,  0.0470,\n",
       "          0.0429,  0.0973,  0.1535, -0.9580,  0.0911, -0.0862, -0.9239,  0.1635,\n",
       "         -0.0239, -0.4263, -0.0600,  0.1525, -0.0083,  1.0000, -0.9986,  0.8926,\n",
       "          0.9767, -1.0000, -0.0629,  0.2855, -0.0594, -0.9843, -0.0220,  0.0996,\n",
       "          0.0351,  0.0643,  1.0000,  0.0479,  0.1437, -0.1096, -0.9959, -0.1897,\n",
       "         -0.1113,  1.0000,  0.9416, -0.0305,  0.0029,  0.5700, -1.0000, -0.8892,\n",
       "          0.4205,  0.8971, -1.0000, -0.1087,  0.9993,  0.9429, -0.0156, -0.9996,\n",
       "          0.0647, -0.9999, -0.2096, -0.0243, -0.0188,  0.1224,  0.1849,  0.0304,\n",
       "          0.9992,  0.9969,  0.0637, -0.1694,  0.0044, -1.0000, -0.9700,  0.0900,\n",
       "          0.0224, -0.9883,  1.0000, -0.9899,  0.9824,  0.9996,  0.8599,  0.0412,\n",
       "         -0.0655, -0.9995,  0.1231,  0.9965,  0.9997,  0.0837,  0.0606,  0.9763,\n",
       "         -0.0016, -0.0609, -0.0669,  0.0907,  0.1047, -0.0129,  0.9489,  0.4617,\n",
       "         -0.8879,  0.8897, -0.0349, -0.0113, -0.9509,  0.1910,  0.0308,  0.1910,\n",
       "         -0.1844,  0.0736,  0.3810,  0.0558,  0.0245,  0.3448, -0.0846,  0.8630,\n",
       "          0.0422, -0.9933,  0.9996,  0.1279,  0.1173,  0.8565,  0.9933, -0.9993,\n",
       "          0.0968, -0.0672, -0.1764, -0.0051,  1.0000,  0.1559,  0.8073,  0.3214,\n",
       "         -0.0808,  0.0880,  0.0489, -0.2566, -0.0048,  0.3223, -0.0931,  0.9962,\n",
       "         -0.5656,  0.1533,  0.0563, -0.9473,  0.0379,  0.1742, -0.8444, -0.1921,\n",
       "         -0.9827, -0.2477, -0.5693, -0.1793,  0.9996,  0.0998, -0.1029,  0.7731,\n",
       "          0.0875,  1.0000, -1.0000,  0.1766,  1.0000, -0.0058, -0.0497, -0.0229,\n",
       "         -0.6219, -0.2635, -0.0109, -0.9942,  0.0552, -0.1133, -0.0782, -0.1397,\n",
       "          0.0213, -0.1560,  0.9643,  0.0742,  0.0108,  0.1298, -0.0111, -0.1117,\n",
       "          0.2126, -0.1783, -0.0257,  0.0336, -0.0540,  0.0835, -0.0360,  0.9727,\n",
       "          0.2421, -0.9988,  0.8772, -0.1639, -0.9743,  0.0401, -0.9990,  1.0000,\n",
       "          0.9962,  0.4311,  0.5666, -0.9991, -0.9923,  0.5441,  0.0640, -0.0251,\n",
       "         -0.0312,  0.4633,  0.0558, -0.1231, -0.0386,  0.0787, -0.0950,  0.8304,\n",
       "          0.9525, -0.9996, -0.0360,  0.9779,  0.2817, -0.9716,  0.1181,  0.4910,\n",
       "         -0.0250,  0.0177, -0.0174,  0.1406, -0.1969, -0.9464,  0.0100,  0.0069,\n",
       "          0.0656,  0.0124, -0.0161,  0.8254, -0.8576,  0.0227, -0.0187, -0.0639,\n",
       "          0.1537, -0.9942, -0.9651, -0.8154,  0.1175, -0.1219, -0.9994,  0.1156,\n",
       "          0.9943,  0.9874,  0.9987,  0.0044, -0.1375, -0.1115,  0.0780, -0.9979,\n",
       "         -0.0286,  0.0787,  0.0222, -0.9087,  0.1023,  0.1207, -0.0513, -0.9997,\n",
       "          0.9993, -0.2802,  0.0270, -0.1486,  0.0765, -0.0760, -0.0799, -0.9997,\n",
       "          0.2549,  1.0000,  0.9290,  0.9862,  0.9168, -0.4537, -0.1961,  0.0969,\n",
       "         -0.9996, -0.9613,  0.0504, -0.0524, -0.9997,  0.9587, -0.9945,  0.2058,\n",
       "          0.1042,  0.9993,  0.9998, -0.1888, -0.9990, -0.9997, -0.9509,  0.0466,\n",
       "         -0.1051,  0.0875, -0.0874, -0.0070, -0.1531,  0.9379,  0.0934,  0.1501,\n",
       "          0.0874,  1.0000, -0.1118, -0.9939,  0.6832,  0.1635, -0.5928, -0.0637,\n",
       "          0.9986, -0.1148,  0.7329,  0.9962, -0.9994,  0.9466, -0.9996,  0.5100,\n",
       "          0.9986, -1.0000,  0.0066, -1.0000, -0.9671, -0.0579,  0.0507,  0.1379,\n",
       "          0.7667, -1.0000, -0.9997,  0.1308, -0.8076, -0.9970,  0.9274, -0.2026,\n",
       "         -0.0869, -0.0052,  0.0842, -0.0786, -0.0843,  0.9980, -0.1189,  0.1007,\n",
       "         -1.0000,  0.9991, -0.1609, -0.0304,  1.0000, -0.1576, -0.0727, -0.0586,\n",
       "         -1.0000, -0.0548,  0.1116, -0.9463,  0.9866, -0.1088, -0.0577,  0.0609,\n",
       "          0.0697, -0.9776, -0.0360, -1.0000,  1.0000, -0.9520,  0.0427,  0.0315,\n",
       "         -0.0555, -0.0131,  0.9601,  1.0000, -0.9845,  0.1325,  1.0000, -0.1369,\n",
       "         -0.0663, -1.0000,  0.0137, -0.0707,  0.1945,  1.0000, -0.0568,  0.0172,\n",
       "          0.9998, -1.0000, -0.9733,  0.1012, -0.0147,  0.0653, -1.0000,  0.1408,\n",
       "         -0.8552, -0.1619, -1.0000,  0.9844, -1.0000, -0.0371,  1.0000,  0.9595,\n",
       "          0.9990, -0.0573, -0.1945,  0.1267, -0.9999,  0.2102,  0.0249,  0.0101,\n",
       "         -0.9984, -0.7104, -0.0655,  0.9771, -0.9377,  0.0210, -0.1557,  0.1533,\n",
       "         -0.0528, -0.0648,  0.0024, -0.9517,  0.1875, -0.0768,  0.1682, -0.1686,\n",
       "          0.1019, -0.1658,  0.9739, -1.0000,  0.0882, -0.9998,  0.1780,  0.2330,\n",
       "         -0.0105,  0.0128, -0.2329,  0.0082, -0.9996,  1.0000, -1.0000, -1.0000,\n",
       "          1.0000, -0.0886, -0.9968,  0.0769,  0.0177,  0.2275, -0.0474, -0.0736,\n",
       "         -0.1770, -0.0656, -0.9438,  0.6564,  0.0525, -0.1589,  0.1512,  0.0508,\n",
       "         -0.9164,  1.0000,  1.0000,  0.9975, -0.9999,  0.0296,  0.0516,  1.0000,\n",
       "          0.0622, -0.0160,  0.9964,  0.9781,  0.1327, -0.4058, -0.1051, -0.0816,\n",
       "          0.1852, -0.0270, -0.8779, -0.9991,  0.0396, -0.9992, -0.9668,  0.9494,\n",
       "          0.0689,  1.0000,  0.1025,  0.0472, -0.0125,  0.1195, -0.9998, -0.1103,\n",
       "         -0.9905, -0.0137, -0.9996, -1.0000, -0.0878, -0.0109, -0.9797, -0.0631,\n",
       "         -0.0721, -0.9881, -0.6432, -0.9999, -0.4559, -0.6961, -0.8486,  0.0160,\n",
       "          0.0396,  0.0028, -0.0700,  0.3096, -0.6730, -0.0521, -0.0145,  0.0170,\n",
       "          0.0031, -0.9998, -0.4942, -1.0000,  0.9971, -1.0000, -0.0491,  1.0000,\n",
       "          1.0000,  0.1985, -0.9999,  0.9998,  0.0815,  1.0000,  0.0052, -0.9955,\n",
       "         -0.9999, -0.0042,  0.0671,  1.0000,  0.0071,  0.7470, -0.0372, -0.0742,\n",
       "          0.0332, -0.0329,  0.0118, -0.0882, -0.0327,  0.9720, -0.0713,  1.0000]],\n",
       "       grad_fn=<TanhBackward0>)"
      ]
     },
     "execution_count": 75,
     "metadata": {},
     "output_type": "execute_result"
    }
   ],
   "source": [
    "result.pooler_output"
   ]
  },
  {
   "cell_type": "code",
   "execution_count": 91,
   "metadata": {},
   "outputs": [],
   "source": [
    "result = feature_extractor(text, return_tensors=\"pt\")"
   ]
  },
  {
   "cell_type": "code",
   "execution_count": 92,
   "metadata": {},
   "outputs": [
    {
     "name": "stdout",
     "output_type": "stream",
     "text": [
      "tensor([[[ 0.1214,  0.1994, -0.0806,  ..., -0.3956,  0.2209,  0.2493],\n",
      "         [ 0.0408, -0.1670,  0.2204,  ...,  0.5409,  0.1506,  0.1340],\n",
      "         [-0.5399, -0.0145,  0.3643,  ...,  0.4207, -0.0376,  0.7490],\n",
      "         ...,\n",
      "         [ 0.1597,  0.0467,  0.6930,  ...,  0.3340,  0.2768,  0.1968],\n",
      "         [ 0.8585, -0.3516,  0.1469,  ..., -0.2806, -0.0955, -0.3273],\n",
      "         [ 0.8624, -0.3524,  0.1438,  ..., -0.2812, -0.0974, -0.3292]]])\n"
     ]
    }
   ],
   "source": [
    "print(result)"
   ]
  },
  {
   "cell_type": "code",
   "execution_count": 108,
   "metadata": {},
   "outputs": [
    {
     "data": {
      "text/plain": [
       "torch.Size([1, 37, 768])"
      ]
     },
     "execution_count": 108,
     "metadata": {},
     "output_type": "execute_result"
    }
   ],
   "source": [
    "result.shape"
   ]
  },
  {
   "cell_type": "markdown",
   "metadata": {},
   "source": [
    "### Train"
   ]
  },
  {
   "cell_type": "code",
   "execution_count": null,
   "metadata": {},
   "outputs": [],
   "source": [
    "\n",
    "criterion = nn.CrossEntropyLoss()\n",
    "\n",
    "writer = SummaryWriter()\n",
    "\n",
    "num_epochs = 2  \n",
    "save_every = 2  \n",
    "\n",
    "for epoch in range(num_epochs):\n",
    "\n",
    "    model = BioBERTClass()\n",
    "    optimizer = optim.Adam(model.parameters(), lr=1e-5)\n",
    "\n",
    "    \"\"\"TRAIN\"\"\"\n",
    "    model.train()\n",
    "    running_loss = 0.0\n",
    "\n",
    "    train_dataloader_iter = tqdm(train_dataloader, desc=f\"Epoch {epoch+1}/{num_epochs}\", unit=\"batch\")\n",
    "    for batch_idx, (input_ids, attention_mask, labels) in enumerate(train_dataloader_iter):\n",
    "        optimizer.zero_grad()\n",
    "        outputs = model(input_ids=input_ids, attention_mask=attention_mask)\n",
    "        loss = criterion(outputs, labels)\n",
    "        loss.backward()\n",
    "        optimizer.step()\n",
    "        running_loss += loss.item()\n",
    "\n",
    "        if batch_idx % 100 == 99:   \n",
    "            avg_loss = running_loss / 100\n",
    "            writer.add_scalar(\"Training Loss\", avg_loss, epoch * len(train_dataloader) + batch_idx)\n",
    "            running_loss = 0.0\n",
    "            train_dataloader_iter.set_postfix(loss=avg_loss)  # Update progress bar with average loss\n",
    "    \n",
    "    \"\"\"VALIDATION\"\"\"\n",
    "    model.eval()\n",
    "    val_loss = 0.0\n",
    "    correct = 0\n",
    "    total = 0\n",
    "    with torch.no_grad():\n",
    "        for input_ids, attention_mask, labels in valid_dataloader:\n",
    "            outputs = model(input_ids=input_ids, attention_mask=attention_mask)\n",
    "            loss = criterion(outputs, labels)\n",
    "            val_loss += loss.item()\n",
    "            _, predicted = torch.max(outputs, 1)\n",
    "            total += labels.size(0)\n",
    "            correct += (predicted == labels).sum().item()\n",
    "\n",
    "    avg_val_loss = val_loss / len(valid_dataloader)\n",
    "    accuracy = 100 * correct / total\n",
    "    \n",
    "    print(f\"Epoch [{epoch+1}/{num_epochs}], Validation Loss: {avg_val_loss:.4f}, Validation Accuracy: {accuracy:.2f}%\")\n",
    "    writer.add_scalar(\"Validation Loss\", avg_val_loss, epoch)\n",
    "    writer.add_scalar(\"Validation Accuracy\", accuracy, epoch)\n",
    "\n",
    "    # Save the weights every 'save_every' epochs\n",
    "    if (epoch + 1) % save_every == 0:\n",
    "        torch.save(model.state_dict(), f\"model_weights_epoch_{epoch + 1}.pt\")\n",
    "        print(f\"Model weights saved at epoch {epoch + 1}\")\n",
    "\n",
    "print(\"Training finished\")\n",
    "\n",
    "writer.close()\n"
   ]
  },
  {
   "cell_type": "markdown",
   "metadata": {},
   "source": [
    "# M2"
   ]
  },
  {
   "cell_type": "code",
   "execution_count": 4,
   "metadata": {},
   "outputs": [
    {
     "data": {
      "text/plain": [
       "device(type='cuda')"
      ]
     },
     "execution_count": 4,
     "metadata": {},
     "output_type": "execute_result"
    }
   ],
   "source": [
    "device = torch.device(\"cuda\" if torch.cuda.is_available() else \"cpu\")\n",
    "\n",
    "device"
   ]
  },
  {
   "cell_type": "code",
   "execution_count": 5,
   "metadata": {},
   "outputs": [],
   "source": [
    "pd_dataset = pd.read_csv(\"./Patient_Doctor_Severity_Dataset.csv\")"
   ]
  },
  {
   "cell_type": "code",
   "execution_count": 6,
   "metadata": {},
   "outputs": [],
   "source": [
    "def clean_severity(text):\n",
    "    text = text.lower().strip()\n",
    "    if text == \"low severity\":\n",
    "        return \"low\"\n",
    "    elif text in [\"medium severity\", \"medium severity:\"]:\n",
    "        return \"medium\"\n",
    "    else:\n",
    "        return \"high\"\n",
    "\n",
    "pd_dataset[\"Status\"] = pd_dataset[\"Status\"].apply(clean_severity)"
   ]
  },
  {
   "cell_type": "code",
   "execution_count": 7,
   "metadata": {},
   "outputs": [
    {
     "data": {
      "text/plain": [
       "['medium', 'high', 'low']"
      ]
     },
     "execution_count": 7,
     "metadata": {},
     "output_type": "execute_result"
    }
   ],
   "source": [
    "labels = pd_dataset[\"Status\"].unique().tolist()\n",
    "labels = [s.strip() for s in labels]\n",
    "labels"
   ]
  },
  {
   "cell_type": "code",
   "execution_count": 8,
   "metadata": {},
   "outputs": [],
   "source": [
    "NUM_LABELS = len(labels)\n",
    "BATCH_SIZE = 16"
   ]
  },
  {
   "cell_type": "code",
   "execution_count": 9,
   "metadata": {},
   "outputs": [],
   "source": [
    "id2label={id:label for id,label in enumerate(labels)}\n",
    "label2id={label:id for id,label in enumerate(labels)}"
   ]
  },
  {
   "cell_type": "code",
   "execution_count": 10,
   "metadata": {},
   "outputs": [],
   "source": [
    "selected_columns = [\"Patient\", \"Status\"]\n",
    "df_org = pd_dataset[selected_columns]\n"
   ]
  },
  {
   "cell_type": "code",
   "execution_count": 11,
   "metadata": {},
   "outputs": [
    {
     "name": "stderr",
     "output_type": "stream",
     "text": [
      "/tmp/ipykernel_24890/1842054565.py:1: SettingWithCopyWarning: \n",
      "A value is trying to be set on a copy of a slice from a DataFrame.\n",
      "Try using .loc[row_indexer,col_indexer] = value instead\n",
      "\n",
      "See the caveats in the documentation: https://pandas.pydata.org/pandas-docs/stable/user_guide/indexing.html#returning-a-view-versus-a-copy\n",
      "  df_org[\"Status\"] = df_org['Status'].replace(label2id)\n"
     ]
    },
    {
     "data": {
      "text/html": [
       "<div>\n",
       "<style scoped>\n",
       "    .dataframe tbody tr th:only-of-type {\n",
       "        vertical-align: middle;\n",
       "    }\n",
       "\n",
       "    .dataframe tbody tr th {\n",
       "        vertical-align: top;\n",
       "    }\n",
       "\n",
       "    .dataframe thead th {\n",
       "        text-align: right;\n",
       "    }\n",
       "</style>\n",
       "<table border=\"1\" class=\"dataframe\">\n",
       "  <thead>\n",
       "    <tr style=\"text-align: right;\">\n",
       "      <th></th>\n",
       "      <th>Patient</th>\n",
       "      <th>Status</th>\n",
       "    </tr>\n",
       "  </thead>\n",
       "  <tbody>\n",
       "    <tr>\n",
       "      <th>0</th>\n",
       "      <td>hi doctor I am just wondering what is abutting...</td>\n",
       "      <td>0</td>\n",
       "    </tr>\n",
       "    <tr>\n",
       "      <th>1</th>\n",
       "      <td>hi doctor I am a 26 year old male I am feet an...</td>\n",
       "      <td>1</td>\n",
       "    </tr>\n",
       "    <tr>\n",
       "      <th>2</th>\n",
       "      <td>hello doctor I am 48 years old I am experienci...</td>\n",
       "      <td>2</td>\n",
       "    </tr>\n",
       "    <tr>\n",
       "      <th>3</th>\n",
       "      <td>hello doctor I have multiple small cysts in bo...</td>\n",
       "      <td>0</td>\n",
       "    </tr>\n",
       "    <tr>\n",
       "      <th>4</th>\n",
       "      <td>hi doctor during masturbation I just rub the t...</td>\n",
       "      <td>2</td>\n",
       "    </tr>\n",
       "  </tbody>\n",
       "</table>\n",
       "</div>"
      ],
      "text/plain": [
       "                                             Patient  Status\n",
       "0  hi doctor I am just wondering what is abutting...       0\n",
       "1  hi doctor I am a 26 year old male I am feet an...       1\n",
       "2  hello doctor I am 48 years old I am experienci...       2\n",
       "3  hello doctor I have multiple small cysts in bo...       0\n",
       "4  hi doctor during masturbation I just rub the t...       2"
      ]
     },
     "execution_count": 11,
     "metadata": {},
     "output_type": "execute_result"
    }
   ],
   "source": [
    "df_org[\"Status\"] = df_org['Status'].replace(label2id)\n",
    "df_org.head()"
   ]
  },
  {
   "cell_type": "code",
   "execution_count": 12,
   "metadata": {},
   "outputs": [
    {
     "data": {
      "text/plain": [
       "<AxesSubplot:ylabel='Status'>"
      ]
     },
     "execution_count": 12,
     "metadata": {},
     "output_type": "execute_result"
    },
    {
     "data": {
      "image/png": "[encoded data removed]",
      "text/plain": [
       "<Figure size 1000x1000 with 1 Axes>"
      ]
     },
     "metadata": {},
     "output_type": "display_data"
    }
   ],
   "source": [
    "df_org.Status.value_counts().plot(kind='pie', figsize=(10,10))"
   ]
  },
  {
   "cell_type": "code",
   "execution_count": 17,
   "metadata": {},
   "outputs": [
    {
     "name": "stderr",
     "output_type": "stream",
     "text": [
      "Some weights of BertForSequenceClassification were not initialized from the model checkpoint at bert-base-uncased and are newly initialized: ['classifier.bias', 'classifier.weight']\n",
      "You should probably TRAIN this model on a down-stream task to be able to use it for predictions and inference.\n"
     ]
    }
   ],
   "source": [
    "tokenizer = BertTokenizerFast.from_pretrained(\n",
    "    \"bert-base-uncased\", max_length=512\n",
    ")\n",
    "\n",
    "model = BertForSequenceClassification.from_pretrained(\n",
    "    \"bert-base-uncased\", \n",
    "    num_labels=NUM_LABELS, id2label=id2label, label2id=label2id\n",
    ")\n"
   ]
  },
  {
   "cell_type": "code",
   "execution_count": null,
   "metadata": {},
   "outputs": [],
   "source": [
    "model.to(device)"
   ]
  },
  {
   "cell_type": "code",
   "execution_count": 2,
   "metadata": {},
   "outputs": [],
   "source": [
    "import os \n",
    "from kaggle.api.kaggle_api import KaggleApi"
   ]
  },
  {
   "cell_type": "code",
   "execution_count": 18,
   "metadata": {},
   "outputs": [],
   "source": [
    "SIZE = df_org.shape[0]\n",
    "\n",
    "train_texts = list(df_org.Patient[:SIZE//2])\n",
    "val_texts = list(df_org.Patient[SIZE//2:(3*SIZE)//4 ])\n",
    "test_texts = list(df_org.Patient[(3*SIZE)//4:])\n",
    "\n",
    "train_labels = list(df_org.Status[:SIZE//2])\n",
    "val_labels = list(df_org.Status[SIZE//2:(3*SIZE)//4])\n",
    "test_labels = list(df_org.Status[(3*SIZE)//4:])"
   ]
  },
  {
   "cell_type": "code",
   "execution_count": 19,
   "metadata": {},
   "outputs": [
    {
     "data": {
      "text/plain": [
       "(1662, 831, 832)"
      ]
     },
     "execution_count": 19,
     "metadata": {},
     "output_type": "execute_result"
    }
   ],
   "source": [
    "len(train_texts), len(val_texts), len(test_texts)"
   ]
  },
  {
   "cell_type": "code",
   "execution_count": 20,
   "metadata": {},
   "outputs": [],
   "source": [
    "train_encodings = tokenizer(train_texts, truncation=True, padding=True)\n",
    "val_encodings  = tokenizer(val_texts, truncation=True, padding=True)\n",
    "test_encodings = tokenizer(test_texts, truncation=True, padding=True)"
   ]
  },
  {
   "cell_type": "code",
   "execution_count": 21,
   "metadata": {},
   "outputs": [],
   "source": [
    "class DataLoader(Dataset):\n",
    "    def __init__(self, encodings, labels):\n",
    "        self.encodings = encodings\n",
    "        self.labels = labels\n",
    "\n",
    "    def __getitem__(self, idx): # return dict with tokenized data, and label\n",
    "        # return as a tensor \n",
    "        item = {key: torch.tensor(val[idx]) for key, val in self.encodings.items()} \n",
    "        item['labels'] = torch.tensor(self.labels[idx])\n",
    "        return item\n",
    "\n",
    "    def __len__(self):\n",
    "        return len(self.labels)\n"
   ]
  },
  {
   "cell_type": "code",
   "execution_count": 22,
   "metadata": {},
   "outputs": [],
   "source": [
    "train_dataloader = DataLoader(train_encodings, train_labels)\n",
    "val_dataloader = DataLoader(val_encodings, val_labels)\n",
    "test_dataset = DataLoader(test_encodings, test_labels)"
   ]
  },
  {
   "cell_type": "code",
   "execution_count": 23,
   "metadata": {},
   "outputs": [],
   "source": [
    "def compute_metrics(pred): # compute F1, Precision, recall\n",
    "    labels = pred.label_ids # true \n",
    "    preds = pred.predictions.argmax(-1) # pred\n",
    "    \n",
    "    precision, recall, f1, _ = precision_recall_fscore_support(labels, preds, average='macro')\n",
    "    \n",
    "    acc = accuracy_score(labels, preds)\n",
    "    # as a dict\n",
    "    return {\n",
    "        'Accuracy': acc,\n",
    "        'F1': f1,\n",
    "        'Precision': precision,\n",
    "        'Recall': recall\n",
    "    }\n"
   ]
  },
  {
   "cell_type": "code",
   "execution_count": 25,
   "metadata": {},
   "outputs": [],
   "source": [
    "training_args = TrainingArguments(\n",
    "    # The output directory where the model predictions and checkpoints will be written\n",
    "    output_dir='./MODEL_OUTPUT', \n",
    "    do_train=True,\n",
    "    do_eval=True,\n",
    "    num_train_epochs=20,              \n",
    "    per_device_train_batch_size=16,  \n",
    "    per_device_eval_batch_size=32,\n",
    "    warmup_steps=100,                # setps used for a linear warmup for learning rate \n",
    "    weight_decay=0.01,\n",
    "    logging_strategy='steps',\n",
    "    logging_dir='./multi-class-logs',  # tensorboard log dir            \n",
    "    logging_steps=50,\n",
    "    evaluation_strategy=\"steps\",\n",
    "    eval_steps=50,\n",
    "    save_strategy=\"steps\", \n",
    "    fp16=True,\n",
    "    load_best_model_at_end=True\n",
    ")\n",
    "\n",
    "trainer = Trainer(\n",
    "    model=model, # pretrained model to be fine tuned \n",
    "    \n",
    "    args=training_args,                   # args \n",
    "    \n",
    "    train_dataset=train_dataloader,     # datset\n",
    "    eval_dataset=val_dataloader,            \n",
    "    \n",
    "    compute_metrics= compute_metrics # evaluation metrics\n",
    ")"
   ]
  },
  {
   "cell_type": "code",
   "execution_count": null,
   "metadata": {},
   "outputs": [],
   "source": [
    "# trainer.train()"
   ]
  },
  {
   "cell_type": "code",
   "execution_count": null,
   "metadata": {},
   "outputs": [],
   "source": [
    "q = [trainer.evaluate(eval_dataset=df_org) \n",
    "     for df_org in [train_dataloader, val_dataloader, test_dataset]]"
   ]
  },
  {
   "cell_type": "code",
   "execution_count": 50,
   "metadata": {},
   "outputs": [],
   "source": [
    "model_path = \"patientRequestSummarization\"\n",
    "\n",
    "# FINE TUNED MODEL\n",
    "finetuned_model = BertForSequenceClassification.from_pretrained(model_path)\n",
    "finetuned_tokenizer= BertTokenizerFast.from_pretrained(model_path)"
   ]
  },
  {
   "cell_type": "code",
   "execution_count": 52,
   "metadata": {},
   "outputs": [],
   "source": [
    "def predict(text):\n",
    "    inputs = finetuned_tokenizer(text, padding=True, truncation=True, max_length=512, return_tensors=\"pt\")\n",
    "    outputs = finetuned_model(**inputs)\n",
    "    \n",
    "    probs = outputs[0].softmax(1)   \n",
    "    pred_label_idx = probs.argmax()\n",
    "    \n",
    "    pred_label = model.config.id2label[pred_label_idx.item()]\n",
    "    return pred_label_idx, pred_label\n"
   ]
  },
  {
   "cell_type": "code",
   "execution_count": 53,
   "metadata": {},
   "outputs": [
    {
     "name": "stdout",
     "output_type": "stream",
     "text": [
      "(tensor(0), 'medium') 0\n",
      "(tensor(1), 'high') 1\n",
      "(tensor(2), 'low') 2\n",
      "(tensor(0), 'medium') 0\n",
      "(tensor(2), 'low') 2\n",
      "(tensor(0), 'medium') 0\n",
      "(tensor(2), 'low') 2\n",
      "(tensor(0), 'medium') 0\n",
      "(tensor(1), 'high') 1\n",
      "(tensor(2), 'low') 2\n"
     ]
    }
   ],
   "source": [
    "for i in range(10):\n",
    "    print(predict(train_texts[i]), train_labels[i])"
   ]
  },
  {
   "cell_type": "code",
   "execution_count": null,
   "metadata": {},
   "outputs": [],
   "source": []
  }
 ],
 "metadata": {
  "kernelspec": {
   "display_name": "env_ai",
   "language": "python",
   "name": "python3"
  },
  "language_info": {
   "codemirror_mode": {
    "name": "ipython",
    "version": 3
   },
   "file_extension": ".py",
   "mimetype": "text/x-python",
   "name": "python",
   "nbconvert_exporter": "python",
   "pygments_lexer": "ipython3",
   "version": "3.10.12"
  }
 },
 "nbformat": 4,
 "nbformat_minor": 2
}
